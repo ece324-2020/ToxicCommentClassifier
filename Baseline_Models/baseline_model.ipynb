{
  "nbformat": 4,
  "nbformat_minor": 0,
  "metadata": {
    "accelerator": "GPU",
    "colab": {
      "name": "baseline_model.ipynb",
      "provenance": []
    },
    "kernelspec": {
      "display_name": "Python 3",
      "name": "python3"
    }
  },
  "cells": [
    {
      "cell_type": "code",
      "metadata": {
        "colab": {
          "base_uri": "https://localhost:8080/"
        },
        "id": "IURKKDGHKf9v",
        "outputId": "0da9ea43-e955-4076-c875-509d52afc335"
      },
      "source": [
        "!python -m spacy download en"
      ],
      "execution_count": null,
      "outputs": [
        {
          "output_type": "stream",
          "text": [
            "Requirement already satisfied: en_core_web_sm==2.2.5 from https://github.com/explosion/spacy-models/releases/download/en_core_web_sm-2.2.5/en_core_web_sm-2.2.5.tar.gz#egg=en_core_web_sm==2.2.5 in /usr/local/lib/python3.6/dist-packages (2.2.5)\n",
            "Requirement already satisfied: spacy>=2.2.2 in /usr/local/lib/python3.6/dist-packages (from en_core_web_sm==2.2.5) (2.2.4)\n",
            "Requirement already satisfied: cymem<2.1.0,>=2.0.2 in /usr/local/lib/python3.6/dist-packages (from spacy>=2.2.2->en_core_web_sm==2.2.5) (2.0.4)\n",
            "Requirement already satisfied: thinc==7.4.0 in /usr/local/lib/python3.6/dist-packages (from spacy>=2.2.2->en_core_web_sm==2.2.5) (7.4.0)\n",
            "Requirement already satisfied: tqdm<5.0.0,>=4.38.0 in /usr/local/lib/python3.6/dist-packages (from spacy>=2.2.2->en_core_web_sm==2.2.5) (4.41.1)\n",
            "Requirement already satisfied: wasabi<1.1.0,>=0.4.0 in /usr/local/lib/python3.6/dist-packages (from spacy>=2.2.2->en_core_web_sm==2.2.5) (0.8.0)\n",
            "Requirement already satisfied: blis<0.5.0,>=0.4.0 in /usr/local/lib/python3.6/dist-packages (from spacy>=2.2.2->en_core_web_sm==2.2.5) (0.4.1)\n",
            "Requirement already satisfied: catalogue<1.1.0,>=0.0.7 in /usr/local/lib/python3.6/dist-packages (from spacy>=2.2.2->en_core_web_sm==2.2.5) (1.0.0)\n",
            "Requirement already satisfied: preshed<3.1.0,>=3.0.2 in /usr/local/lib/python3.6/dist-packages (from spacy>=2.2.2->en_core_web_sm==2.2.5) (3.0.4)\n",
            "Requirement already satisfied: murmurhash<1.1.0,>=0.28.0 in /usr/local/lib/python3.6/dist-packages (from spacy>=2.2.2->en_core_web_sm==2.2.5) (1.0.4)\n",
            "Requirement already satisfied: setuptools in /usr/local/lib/python3.6/dist-packages (from spacy>=2.2.2->en_core_web_sm==2.2.5) (50.3.2)\n",
            "Requirement already satisfied: srsly<1.1.0,>=1.0.2 in /usr/local/lib/python3.6/dist-packages (from spacy>=2.2.2->en_core_web_sm==2.2.5) (1.0.4)\n",
            "Requirement already satisfied: plac<1.2.0,>=0.9.6 in /usr/local/lib/python3.6/dist-packages (from spacy>=2.2.2->en_core_web_sm==2.2.5) (1.1.3)\n",
            "Requirement already satisfied: numpy>=1.15.0 in /usr/local/lib/python3.6/dist-packages (from spacy>=2.2.2->en_core_web_sm==2.2.5) (1.18.5)\n",
            "Requirement already satisfied: requests<3.0.0,>=2.13.0 in /usr/local/lib/python3.6/dist-packages (from spacy>=2.2.2->en_core_web_sm==2.2.5) (2.23.0)\n",
            "Requirement already satisfied: importlib-metadata>=0.20; python_version < \"3.8\" in /usr/local/lib/python3.6/dist-packages (from catalogue<1.1.0,>=0.0.7->spacy>=2.2.2->en_core_web_sm==2.2.5) (2.0.0)\n",
            "Requirement already satisfied: certifi>=2017.4.17 in /usr/local/lib/python3.6/dist-packages (from requests<3.0.0,>=2.13.0->spacy>=2.2.2->en_core_web_sm==2.2.5) (2020.11.8)\n",
            "Requirement already satisfied: urllib3!=1.25.0,!=1.25.1,<1.26,>=1.21.1 in /usr/local/lib/python3.6/dist-packages (from requests<3.0.0,>=2.13.0->spacy>=2.2.2->en_core_web_sm==2.2.5) (1.24.3)\n",
            "Requirement already satisfied: chardet<4,>=3.0.2 in /usr/local/lib/python3.6/dist-packages (from requests<3.0.0,>=2.13.0->spacy>=2.2.2->en_core_web_sm==2.2.5) (3.0.4)\n",
            "Requirement already satisfied: idna<3,>=2.5 in /usr/local/lib/python3.6/dist-packages (from requests<3.0.0,>=2.13.0->spacy>=2.2.2->en_core_web_sm==2.2.5) (2.10)\n",
            "Requirement already satisfied: zipp>=0.5 in /usr/local/lib/python3.6/dist-packages (from importlib-metadata>=0.20; python_version < \"3.8\"->catalogue<1.1.0,>=0.0.7->spacy>=2.2.2->en_core_web_sm==2.2.5) (3.4.0)\n",
            "\u001b[38;5;2m✔ Download and installation successful\u001b[0m\n",
            "You can now load the model via spacy.load('en_core_web_sm')\n",
            "\u001b[38;5;2m✔ Linking successful\u001b[0m\n",
            "/usr/local/lib/python3.6/dist-packages/en_core_web_sm -->\n",
            "/usr/local/lib/python3.6/dist-packages/spacy/data/en\n",
            "You can now load the model via spacy.load('en')\n"
          ],
          "name": "stdout"
        }
      ]
    },
    {
      "cell_type": "code",
      "metadata": {
        "id": "pU9F34eUKmAl"
      },
      "source": [
        "import pandas as pd\n",
        "\n",
        "import torch\n",
        "import torch.optim as optim\n",
        "\n",
        "import torchtext\n",
        "from torchtext import data\n",
        "import spacy\n",
        "import matplotlib.pyplot as plt\n",
        "import numpy as np\n",
        "from sklearn.model_selection import train_test_split\n",
        "\n",
        "import argparse\n",
        "import os\n"
      ],
      "execution_count": null,
      "outputs": []
    },
    {
      "cell_type": "code",
      "metadata": {
        "id": "nk46w9BgKnwJ"
      },
      "source": [
        "import torch\n",
        "import torch.nn as nn\n",
        "import torch.nn.functional as F\n",
        "\n",
        "\n",
        "class Baseline(nn.Module):\n",
        "\n",
        "    def __init__(self, embedding_dim, vocab):\n",
        "        super(Baseline, self).__init__()\n",
        "\n",
        "        self.embedding = nn.Embedding.from_pretrained(vocab.vectors)\n",
        "        self.fc = nn.Linear(embedding_dim, 1)\n",
        "\n",
        "    def forward(self, x, lengths=None):\n",
        "        embedded = self.embedding(x)\n",
        "\n",
        "        average = embedded.mean(0)\n",
        "        output = self.fc(average)\n",
        "        output = nn.functional.sigmoid(output)\n",
        "\n",
        "        return output.squeeze()"
      ],
      "execution_count": null,
      "outputs": []
    },
    {
      "cell_type": "code",
      "metadata": {
        "id": "l103nOEfAT9j"
      },
      "source": [
        "from torch.nn.utils.rnn import pack_padded_sequence, pad_packed_sequence\n",
        "import torch\n",
        "import torch.nn as nn\n",
        "import torch.nn.functional as F\n",
        "\n",
        "class CNN_LSTM(nn.Module):\n",
        "    def __init__(self, embedding_dim, vocab, hidden_dim=100):\n",
        "        super(CNN_LSTM, self).__init__()\n",
        "        self.embedding = nn.Embedding.from_pretrained(vocab.vectors)\n",
        "        self.hidden_dim = hidden_dim\n",
        "\n",
        "        self.conv1 = nn.Conv2d(1, 100,kernel_size=(2,embedding_dim)) #in_channels, out_chanels, kernel_size\n",
        "        \n",
        "        \n",
        "        self.lstm1 = nn.LSTM(embedding_dim,hidden_dim)\n",
        "        target_size = 1\n",
        "        self.fc1 = nn.Linear(hidden_dim, target_size)\n",
        "\n",
        "    def forward(self, x, lengths):\n",
        "    #   embeds = self.word_embeddings(sentence)\n",
        "    #     lstm_out, _ = self.lstm(embeds.view(len(sentence), 1, -1))\n",
        "    #     tag_space = self.hidden2tag(lstm_out.view(len(sentence), -1))\n",
        "    #     tag_scores = F.log_softmax(tag_space, dim=1)\n",
        "    #     return tag_scores\n",
        "        \n",
        "        x = self.embedding(x)\n",
        "        # print('x.shape',x.shape)\n",
        "\n",
        "        x = x.unsqueeze(0)\n",
        "        # print('x = x.unsqueeze(0)',x.shape)\n",
        "        x = x.transpose(1,2) # swaps 2nd and 3rd dimension\n",
        "        # print('x = x.transpose(1,2)',x.shape)\n",
        "        x = x.transpose(0,1) # swaps 1st and 2nd dimension, now it has the correct input (n_samples,channels, height, width)\n",
        "        # print('x = x.transpose(0,1)',x.shape)\n",
        "        x1 = F.relu(self.conv1(x)) \n",
        "        # print('x1 = F.relu(self.conv1(x))',x1.shape)\n",
        "        \n",
        "        x1 = x1.squeeze(3)\n",
        "        # print('x1 = x1.squeeze(3)',x1.shape)\n",
        "        pool1 = nn.MaxPool1d(x1.size(2), 1) #maxpool\n",
        "        \n",
        "        x = pool1(x1)\n",
        "        # print('pool1 = nn.MaxPool1d(x1.size(2), 1)',x.shape)\n",
        "        x = x.squeeze(2)\n",
        "        x = x.unsqueeze(0)\n",
        "        # print('x = x.squeeze(2)',x.shape)\n",
        "\n",
        "\n",
        "        #  pack the word embeddings in the batch together and \n",
        "        # run the RNN on this object\n",
        "        # x = pack_padded_sequence(x,lengths) \n",
        "        # print('x.shape',x.shape)\n",
        "        x,(h,c) = self.lstm1(x)\n",
        "        # print('x.shape',x.shape)\n",
        "        # print('h.shape',h.shape)\n",
        "        # print('len(h)',len(h))\n",
        "        # print('(x.view(len(lengths),-1)).shape',(x.view(len(lengths),-1)).shape)\n",
        "        h_result = self.fc1(h.squeeze(0))\n",
        "        # h_result = F.log_softmax(tag_space, dim=1) --> change to this with multiple cat\n",
        "        h_result = self.dropout(torch.sigmoid(h_result))\n",
        "        \n",
        "\n",
        "        return h_result.squeeze(1)"
      ],
      "execution_count": null,
      "outputs": []
    },
    {
      "cell_type": "code",
      "metadata": {
        "colab": {
          "base_uri": "https://localhost:8080/"
        },
        "id": "1U8apG2nLto3",
        "outputId": "68e90aca-9777-490e-cbcd-72655757f151"
      },
      "source": [
        "!unzip processed_data.zip"
      ],
      "execution_count": null,
      "outputs": [
        {
          "output_type": "stream",
          "text": [
            "Archive:  processed_data.zip\n",
            "  inflating: processed_data/overfit.csv  \n",
            "  inflating: processed_data/valid.csv  \n",
            "  inflating: processed_data/test.csv  \n",
            "  inflating: processed_data/train.csv  \n"
          ],
          "name": "stdout"
        }
      ]
    },
    {
      "cell_type": "code",
      "metadata": {
        "id": "KTG-en6FPxpV",
        "colab": {
          "base_uri": "https://localhost:8080/",
          "height": 374
        },
        "outputId": "c30a55ab-709d-4f15-a294-0cb0e2d10fd8"
      },
      "source": [
        "data = pd.read_csv(\"processed_data/valid.csv\")"
      ],
      "execution_count": null,
      "outputs": [
        {
          "output_type": "error",
          "ename": "FileNotFoundError",
          "evalue": "ignored",
          "traceback": [
            "\u001b[0;31m---------------------------------------------------------------------------\u001b[0m",
            "\u001b[0;31mFileNotFoundError\u001b[0m                         Traceback (most recent call last)",
            "\u001b[0;32m<ipython-input-6-a7803ec5aa4c>\u001b[0m in \u001b[0;36m<module>\u001b[0;34m()\u001b[0m\n\u001b[0;32m----> 1\u001b[0;31m \u001b[0mdata\u001b[0m \u001b[0;34m=\u001b[0m \u001b[0mpd\u001b[0m\u001b[0;34m.\u001b[0m\u001b[0mread_csv\u001b[0m\u001b[0;34m(\u001b[0m\u001b[0;34m\"processed_data/valid.csv\"\u001b[0m\u001b[0;34m)\u001b[0m\u001b[0;34m\u001b[0m\u001b[0;34m\u001b[0m\u001b[0m\n\u001b[0m",
            "\u001b[0;32m/usr/local/lib/python3.6/dist-packages/pandas/io/parsers.py\u001b[0m in \u001b[0;36mread_csv\u001b[0;34m(filepath_or_buffer, sep, delimiter, header, names, index_col, usecols, squeeze, prefix, mangle_dupe_cols, dtype, engine, converters, true_values, false_values, skipinitialspace, skiprows, skipfooter, nrows, na_values, keep_default_na, na_filter, verbose, skip_blank_lines, parse_dates, infer_datetime_format, keep_date_col, date_parser, dayfirst, cache_dates, iterator, chunksize, compression, thousands, decimal, lineterminator, quotechar, quoting, doublequote, escapechar, comment, encoding, dialect, error_bad_lines, warn_bad_lines, delim_whitespace, low_memory, memory_map, float_precision)\u001b[0m\n\u001b[1;32m    686\u001b[0m     )\n\u001b[1;32m    687\u001b[0m \u001b[0;34m\u001b[0m\u001b[0m\n\u001b[0;32m--> 688\u001b[0;31m     \u001b[0;32mreturn\u001b[0m \u001b[0m_read\u001b[0m\u001b[0;34m(\u001b[0m\u001b[0mfilepath_or_buffer\u001b[0m\u001b[0;34m,\u001b[0m \u001b[0mkwds\u001b[0m\u001b[0;34m)\u001b[0m\u001b[0;34m\u001b[0m\u001b[0;34m\u001b[0m\u001b[0m\n\u001b[0m\u001b[1;32m    689\u001b[0m \u001b[0;34m\u001b[0m\u001b[0m\n\u001b[1;32m    690\u001b[0m \u001b[0;34m\u001b[0m\u001b[0m\n",
            "\u001b[0;32m/usr/local/lib/python3.6/dist-packages/pandas/io/parsers.py\u001b[0m in \u001b[0;36m_read\u001b[0;34m(filepath_or_buffer, kwds)\u001b[0m\n\u001b[1;32m    452\u001b[0m \u001b[0;34m\u001b[0m\u001b[0m\n\u001b[1;32m    453\u001b[0m     \u001b[0;31m# Create the parser.\u001b[0m\u001b[0;34m\u001b[0m\u001b[0;34m\u001b[0m\u001b[0;34m\u001b[0m\u001b[0m\n\u001b[0;32m--> 454\u001b[0;31m     \u001b[0mparser\u001b[0m \u001b[0;34m=\u001b[0m \u001b[0mTextFileReader\u001b[0m\u001b[0;34m(\u001b[0m\u001b[0mfp_or_buf\u001b[0m\u001b[0;34m,\u001b[0m \u001b[0;34m**\u001b[0m\u001b[0mkwds\u001b[0m\u001b[0;34m)\u001b[0m\u001b[0;34m\u001b[0m\u001b[0;34m\u001b[0m\u001b[0m\n\u001b[0m\u001b[1;32m    455\u001b[0m \u001b[0;34m\u001b[0m\u001b[0m\n\u001b[1;32m    456\u001b[0m     \u001b[0;32mif\u001b[0m \u001b[0mchunksize\u001b[0m \u001b[0;32mor\u001b[0m \u001b[0miterator\u001b[0m\u001b[0;34m:\u001b[0m\u001b[0;34m\u001b[0m\u001b[0;34m\u001b[0m\u001b[0m\n",
            "\u001b[0;32m/usr/local/lib/python3.6/dist-packages/pandas/io/parsers.py\u001b[0m in \u001b[0;36m__init__\u001b[0;34m(self, f, engine, **kwds)\u001b[0m\n\u001b[1;32m    946\u001b[0m             \u001b[0mself\u001b[0m\u001b[0;34m.\u001b[0m\u001b[0moptions\u001b[0m\u001b[0;34m[\u001b[0m\u001b[0;34m\"has_index_names\"\u001b[0m\u001b[0;34m]\u001b[0m \u001b[0;34m=\u001b[0m \u001b[0mkwds\u001b[0m\u001b[0;34m[\u001b[0m\u001b[0;34m\"has_index_names\"\u001b[0m\u001b[0;34m]\u001b[0m\u001b[0;34m\u001b[0m\u001b[0;34m\u001b[0m\u001b[0m\n\u001b[1;32m    947\u001b[0m \u001b[0;34m\u001b[0m\u001b[0m\n\u001b[0;32m--> 948\u001b[0;31m         \u001b[0mself\u001b[0m\u001b[0;34m.\u001b[0m\u001b[0m_make_engine\u001b[0m\u001b[0;34m(\u001b[0m\u001b[0mself\u001b[0m\u001b[0;34m.\u001b[0m\u001b[0mengine\u001b[0m\u001b[0;34m)\u001b[0m\u001b[0;34m\u001b[0m\u001b[0;34m\u001b[0m\u001b[0m\n\u001b[0m\u001b[1;32m    949\u001b[0m \u001b[0;34m\u001b[0m\u001b[0m\n\u001b[1;32m    950\u001b[0m     \u001b[0;32mdef\u001b[0m \u001b[0mclose\u001b[0m\u001b[0;34m(\u001b[0m\u001b[0mself\u001b[0m\u001b[0;34m)\u001b[0m\u001b[0;34m:\u001b[0m\u001b[0;34m\u001b[0m\u001b[0;34m\u001b[0m\u001b[0m\n",
            "\u001b[0;32m/usr/local/lib/python3.6/dist-packages/pandas/io/parsers.py\u001b[0m in \u001b[0;36m_make_engine\u001b[0;34m(self, engine)\u001b[0m\n\u001b[1;32m   1178\u001b[0m     \u001b[0;32mdef\u001b[0m \u001b[0m_make_engine\u001b[0m\u001b[0;34m(\u001b[0m\u001b[0mself\u001b[0m\u001b[0;34m,\u001b[0m \u001b[0mengine\u001b[0m\u001b[0;34m=\u001b[0m\u001b[0;34m\"c\"\u001b[0m\u001b[0;34m)\u001b[0m\u001b[0;34m:\u001b[0m\u001b[0;34m\u001b[0m\u001b[0;34m\u001b[0m\u001b[0m\n\u001b[1;32m   1179\u001b[0m         \u001b[0;32mif\u001b[0m \u001b[0mengine\u001b[0m \u001b[0;34m==\u001b[0m \u001b[0;34m\"c\"\u001b[0m\u001b[0;34m:\u001b[0m\u001b[0;34m\u001b[0m\u001b[0;34m\u001b[0m\u001b[0m\n\u001b[0;32m-> 1180\u001b[0;31m             \u001b[0mself\u001b[0m\u001b[0;34m.\u001b[0m\u001b[0m_engine\u001b[0m \u001b[0;34m=\u001b[0m \u001b[0mCParserWrapper\u001b[0m\u001b[0;34m(\u001b[0m\u001b[0mself\u001b[0m\u001b[0;34m.\u001b[0m\u001b[0mf\u001b[0m\u001b[0;34m,\u001b[0m \u001b[0;34m**\u001b[0m\u001b[0mself\u001b[0m\u001b[0;34m.\u001b[0m\u001b[0moptions\u001b[0m\u001b[0;34m)\u001b[0m\u001b[0;34m\u001b[0m\u001b[0;34m\u001b[0m\u001b[0m\n\u001b[0m\u001b[1;32m   1181\u001b[0m         \u001b[0;32melse\u001b[0m\u001b[0;34m:\u001b[0m\u001b[0;34m\u001b[0m\u001b[0;34m\u001b[0m\u001b[0m\n\u001b[1;32m   1182\u001b[0m             \u001b[0;32mif\u001b[0m \u001b[0mengine\u001b[0m \u001b[0;34m==\u001b[0m \u001b[0;34m\"python\"\u001b[0m\u001b[0;34m:\u001b[0m\u001b[0;34m\u001b[0m\u001b[0;34m\u001b[0m\u001b[0m\n",
            "\u001b[0;32m/usr/local/lib/python3.6/dist-packages/pandas/io/parsers.py\u001b[0m in \u001b[0;36m__init__\u001b[0;34m(self, src, **kwds)\u001b[0m\n\u001b[1;32m   2008\u001b[0m         \u001b[0mkwds\u001b[0m\u001b[0;34m[\u001b[0m\u001b[0;34m\"usecols\"\u001b[0m\u001b[0;34m]\u001b[0m \u001b[0;34m=\u001b[0m \u001b[0mself\u001b[0m\u001b[0;34m.\u001b[0m\u001b[0musecols\u001b[0m\u001b[0;34m\u001b[0m\u001b[0;34m\u001b[0m\u001b[0m\n\u001b[1;32m   2009\u001b[0m \u001b[0;34m\u001b[0m\u001b[0m\n\u001b[0;32m-> 2010\u001b[0;31m         \u001b[0mself\u001b[0m\u001b[0;34m.\u001b[0m\u001b[0m_reader\u001b[0m \u001b[0;34m=\u001b[0m \u001b[0mparsers\u001b[0m\u001b[0;34m.\u001b[0m\u001b[0mTextReader\u001b[0m\u001b[0;34m(\u001b[0m\u001b[0msrc\u001b[0m\u001b[0;34m,\u001b[0m \u001b[0;34m**\u001b[0m\u001b[0mkwds\u001b[0m\u001b[0;34m)\u001b[0m\u001b[0;34m\u001b[0m\u001b[0;34m\u001b[0m\u001b[0m\n\u001b[0m\u001b[1;32m   2011\u001b[0m         \u001b[0mself\u001b[0m\u001b[0;34m.\u001b[0m\u001b[0munnamed_cols\u001b[0m \u001b[0;34m=\u001b[0m \u001b[0mself\u001b[0m\u001b[0;34m.\u001b[0m\u001b[0m_reader\u001b[0m\u001b[0;34m.\u001b[0m\u001b[0munnamed_cols\u001b[0m\u001b[0;34m\u001b[0m\u001b[0;34m\u001b[0m\u001b[0m\n\u001b[1;32m   2012\u001b[0m \u001b[0;34m\u001b[0m\u001b[0m\n",
            "\u001b[0;32mpandas/_libs/parsers.pyx\u001b[0m in \u001b[0;36mpandas._libs.parsers.TextReader.__cinit__\u001b[0;34m()\u001b[0m\n",
            "\u001b[0;32mpandas/_libs/parsers.pyx\u001b[0m in \u001b[0;36mpandas._libs.parsers.TextReader._setup_parser_source\u001b[0;34m()\u001b[0m\n",
            "\u001b[0;31mFileNotFoundError\u001b[0m: [Errno 2] No such file or directory: 'processed_data/valid.csv'"
          ]
        }
      ]
    },
    {
      "cell_type": "code",
      "metadata": {
        "colab": {
          "base_uri": "https://localhost:8080/"
        },
        "id": "-diCfT19P8Gu",
        "outputId": "4b5447f9-c2e3-4fe5-e35d-707f04ac9fc5"
      },
      "source": [
        "data[\"toxic\"].value_counts()"
      ],
      "execution_count": null,
      "outputs": [
        {
          "output_type": "execute_result",
          "data": {
            "text/plain": [
              "1    2513\n",
              "0     513\n",
              "Name: toxic, dtype: int64"
            ]
          },
          "metadata": {
            "tags": []
          },
          "execution_count": 11
        }
      ]
    },
    {
      "cell_type": "code",
      "metadata": {
        "colab": {
          "base_uri": "https://localhost:8080/"
        },
        "id": "NsiGCURdQDIO",
        "outputId": "c83b34d3-880c-4130-e703-c993ac46fd44"
      },
      "source": [
        "data[\"severe_toxic\"].value_counts()"
      ],
      "execution_count": null,
      "outputs": [
        {
          "output_type": "execute_result",
          "data": {
            "text/plain": [
              "0    2132\n",
              "1     894\n",
              "Name: severe_toxic, dtype: int64"
            ]
          },
          "metadata": {
            "tags": []
          },
          "execution_count": 12
        }
      ]
    },
    {
      "cell_type": "code",
      "metadata": {
        "id": "Ug2WnUT5QHQP"
      },
      "source": [
        "data1 = pd.read_csv(\"processed_data/train.csv\")"
      ],
      "execution_count": null,
      "outputs": []
    },
    {
      "cell_type": "code",
      "metadata": {
        "colab": {
          "base_uri": "https://localhost:8080/"
        },
        "id": "AYNMtoJ2QM-w",
        "outputId": "88682862-c2a6-407a-be77-f6ad71d6f467"
      },
      "source": [
        "data1[\"severe_toxic\"].value_counts()"
      ],
      "execution_count": null,
      "outputs": [
        {
          "output_type": "execute_result",
          "data": {
            "text/plain": [
              "0    17278\n",
              "1     6932\n",
              "Name: severe_toxic, dtype: int64"
            ]
          },
          "metadata": {
            "tags": []
          },
          "execution_count": 16
        }
      ]
    },
    {
      "cell_type": "code",
      "metadata": {
        "id": "m45yUls1M5_q"
      },
      "source": [
        "def evaluate(model, data_iter, loss_fnc):\n",
        "    sumloss = 0\n",
        "    sumcorrect = 0\n",
        "    for i, texts in enumerate(data_iter):\n",
        "        words, length = texts.comment_text\n",
        "        labels = []\n",
        "        for j in range(len(texts.toxic)):\n",
        "            #labels += [[int(texts.toxic[i]), int(texts.severe_toxic[i]), int(texts.obscene[i]), int(texts.threat[i]), int(texts.insult[i]), int(texts.identity_hate[i])]]\n",
        "            labels += [[int(texts.obscene[j])]]\n",
        "        out = model(words, length)\n",
        "        temploss = loss_fnc(input=out.squeeze(), target=torch.FloatTensor(labels).squeeze())\n",
        "        sumloss += temploss\n",
        "        temp = ((out > 0.5).squeeze().long() == torch.FloatTensor(labels))\n",
        "        for i in temp:\n",
        "          if torch.equal(i[0], torch.BoolTensor([True])[0]):\n",
        "            sumcorrect += 1\n",
        "    loss = torch.mean(float(sumloss) / (i + 1))\n",
        "    return float(sumcorrect)/len(data_iter.dataset), loss"
      ],
      "execution_count": null,
      "outputs": []
    },
    {
      "cell_type": "code",
      "metadata": {
        "id": "JuQY9eHEM5sZ"
      },
      "source": [
        "def plot_data(train_acc, valid_acc, test_acc, train_loss, valid_loss, test_loss):\n",
        "\n",
        "    plt.figure()\n",
        "    plt.title(\"Accuracy\")\n",
        "    plt.plot(train_acc, label=\"Training\")\n",
        "    plt.plot(valid_acc, label=\"Validation\")\n",
        "    plt.xlabel(\"Epochs\")\n",
        "    plt.ylabel(\"Accuracy\")\n",
        "    plt.legend()\n",
        "    plt.figtext(0.5, -0.05, \"Training Final Accuracy: \" + str(train_acc[-1]), wrap=True, horizontalalignment='center', fontsize=12)\n",
        "    plt.figtext(0.5, -0.1, \"Validation Final Accuracy: \" + str(valid_acc[-1]), wrap=True, horizontalalignment='center', fontsize=12)\n",
        "    plt.show()\n",
        "\n",
        "    plt.figure()\n",
        "    plt.title(\"Loss\")\n",
        "    plt.plot(train_loss, label=\"Training\")\n",
        "    plt.plot(valid_loss, label=\"Validation\")\n",
        "    plt.xlabel(\"Epochs\")\n",
        "    plt.ylabel(\"Loss\")\n",
        "    plt.legend()\n",
        "    plt.show()"
      ],
      "execution_count": null,
      "outputs": []
    },
    {
      "cell_type": "code",
      "metadata": {
        "id": "uoIFdRFXiOH4"
      },
      "source": [
        "def evaluate(model, data_iter, loss_fnc):\n",
        "    sumloss = 0\n",
        "    sumcorrect = 0\n",
        "    for i, texts in enumerate(data_iter):\n",
        "        words, length = texts.comment_text\n",
        "        labels = texts.toxic\n",
        "        out = model(words, length)\n",
        "        temploss = loss_fnc(input=out.squeeze(), target=labels.float())\n",
        "        correct = (out > 0.5).squeeze().long() == labels\n",
        "        sumloss += temploss\n",
        "        sumcorrect += int(correct.sum())\n",
        "    loss = float(sumloss) / (i + 1)\n",
        "    return float(sumcorrect)/len(data_iter.dataset), loss"
      ],
      "execution_count": null,
      "outputs": []
    },
    {
      "cell_type": "code",
      "metadata": {
        "id": "Ye_9whlPMTzA"
      },
      "source": [
        "from torch.autograd import Variable\n",
        "\n",
        "def baselinetrain(batch_size, lr, epochs, emb_dim):\n",
        "    ######\n",
        "    # 3.2 Processing of the data\n",
        "    # the code below assumes you have processed and split the data into\n",
        "    # the three files, train.tsv, validation.tsv and test.tsv\n",
        "    # and those files reside in the folder named \"data\".\n",
        "    ######\n",
        "\n",
        "    COMMENT_TEXT    = data.Field(sequential=True,lower=True, tokenize='spacy', include_lengths=True)\n",
        "    TOXIC           = data.Field(sequential=False, use_vocab=False)\n",
        "    SEVERE_TOXIC    = data.Field(sequential=False, use_vocab=False)\n",
        "    OBSCENE         = data.Field(sequential=False, use_vocab=False)\n",
        "    THREAT          = data.Field(sequential=False, use_vocab=False)\n",
        "    INSULT          = data.Field(sequential=False, use_vocab=False)\n",
        "    IDENTITY_HATE   = data.Field(sequential=False, use_vocab=False)\n",
        "\n",
        "    train_data, val_data, test_data = data.TabularDataset.splits(\n",
        "            path='processed_data/', train='train.csv',\n",
        "            validation='valid.csv', test='test.csv', format='csv',\n",
        "            skip_header=True, fields=[('id', None), ('comment_text', COMMENT_TEXT), ('toxic', TOXIC), ('severe_toxic', SEVERE_TOXIC), ('obscene', OBSCENE), ('threat', THREAT), ('insult', INSULT), ('identity_hate', IDENTITY_HATE)])\n",
        "\n",
        "    train_iter, val_iter, test_iter = data.BucketIterator.splits(\n",
        "          (train_data, val_data, test_data), batch_sizes=(batch_size, batch_size, batch_size),\n",
        "\tsort_key=lambda x: len(x.comment_text), device=None, sort_within_batch=True, repeat=False)\n",
        "\n",
        "    COMMENT_TEXT.build_vocab(train_data, val_data, test_data)\n",
        "\n",
        "    COMMENT_TEXT.vocab.load_vectors(torchtext.vocab.GloVe(name='6B', dim=100))\n",
        "    vocab = COMMENT_TEXT.vocab\n",
        "\n",
        "    print(\"Shape of Vocab:\",COMMENT_TEXT.vocab.vectors.shape)\n",
        "\n",
        "    loss_fnc = torch.nn.BCEWithLogitsLoss()\n",
        "\n",
        "    toxic_model = Baseline(emb_dim, COMMENT_TEXT.vocab)\n",
        "    severe_toxic_model = Baseline(emb_dim, COMMENT_TEXT.vocab)\n",
        "    obscene_model = Baseline(emb_dim, COMMENT_TEXT.vocab)\n",
        "    threat_model = Baseline(emb_dim, COMMENT_TEXT.vocab)\n",
        "    insult_model = Baseline(emb_dim, COMMENT_TEXT.vocab)\n",
        "    identity_hate_model = Baseline(emb_dim, COMMENT_TEXT.vocab)\n",
        "\n",
        "    toxic_optimizer = optim.Adam(toxic_model.parameters(), lr=lr)\n",
        "    severe_toxic_optimizer = optim.Adam(toxic_model.parameters(), lr=lr)\n",
        "    train_acc = []\n",
        "    train_loss = []\n",
        "    valid_acc = []\n",
        "    valid_loss = []\n",
        "    test_acc = []\n",
        "    test_loss = []\n",
        "    for epoch in range(epochs):\n",
        "        for i, texts in enumerate(train_iter):\n",
        "            words, length = texts.comment_text\n",
        "            labels = texts.severe_toxic.float()\n",
        "            ## toxic\n",
        "            toxic_optimizer.zero_grad()\n",
        "            out = toxic_model(words, length)\n",
        "            #print(out)\n",
        "            #print(labels)\n",
        "            temploss = loss_fnc(input=out, target=labels)\n",
        "            temploss.backward()\n",
        "            toxic_optimizer.step()\n",
        "            \n",
        "            words = torch.cat((words, out.unsqueeze(0)))\n",
        "            labels = texts.toxic.float()\n",
        "            severe_toxic_optimizer.zero_grad()\n",
        "            out = severe_toxic_model(words.long(),length)\n",
        "            temploss = loss_fnc(input=out, target=labels)\n",
        "            temploss.backward()\n",
        "            severe_toxic_optimizer.step()\n",
        "            \n",
        "            \n",
        "\n",
        "\n",
        "        train = evaluate(toxic_model, train_iter, loss_fnc)\n",
        "        train_acc.append(train[0])\n",
        "        train_loss.append(train[1])\n",
        "        val = evaluate(toxic_model, val_iter, loss_fnc)\n",
        "        valid_acc.append(val[0])\n",
        "        valid_loss.append(val[1])\n",
        "        test = evaluate(toxic_model, test_iter, loss_fnc)\n",
        "        test_acc.append(test[0])\n",
        "        test_loss.append(test[1])\n",
        "        print(\"Epoch: {}| Train acc: {} | Train loss: {} |  Valid acc: {} |  Valid loss: {}\".format(epoch + 1, train_acc[epoch], train_loss[epoch],valid_acc[epoch], valid_loss[epoch]))\n",
        "\n",
        "    plot_data(train_acc, valid_acc, test_acc, train_loss, valid_loss, test_loss)\n"
      ],
      "execution_count": null,
      "outputs": []
    },
    {
      "cell_type": "code",
      "metadata": {
        "colab": {
          "base_uri": "https://localhost:8080/",
          "height": 1000
        },
        "id": "DRueRJ9nmNMS",
        "outputId": "9dc17cf2-d501-46b6-9c23-641c970968a4"
      },
      "source": [
        "baselinetrain(64, 0.01, 50, 100)"
      ],
      "execution_count": null,
      "outputs": [
        {
          "output_type": "stream",
          "text": [
            ".vector_cache/glove.6B.zip: 862MB [06:27, 2.23MB/s]                           \n",
            "100%|█████████▉| 398261/400000 [00:17<00:00, 23217.53it/s]"
          ],
          "name": "stderr"
        },
        {
          "output_type": "stream",
          "text": [
            "Shape of Vocab: torch.Size([32883, 100])\n"
          ],
          "name": "stdout"
        },
        {
          "output_type": "stream",
          "text": [
            "/usr/local/lib/python3.6/dist-packages/torch/nn/functional.py:1639: UserWarning: nn.functional.sigmoid is deprecated. Use torch.sigmoid instead.\n",
            "  warnings.warn(\"nn.functional.sigmoid is deprecated. Use torch.sigmoid instead.\")\n"
          ],
          "name": "stderr"
        },
        {
          "output_type": "stream",
          "text": [
            "Epoch: 1| Train acc: 0.18736059479553904 | Train loss: 0.6830520831186099 |  Valid acc: 0.18142762723066755 |  Valid loss: 0.6818668842315674\n",
            "Epoch: 2| Train acc: 0.2486575795125981 | Train loss: 0.6578915880349192 |  Valid acc: 0.24124256444150693 |  Valid loss: 0.6546434164047241\n",
            "Epoch: 3| Train acc: 0.23911606774060307 | Train loss: 0.6640888707304379 |  Valid acc: 0.22967614011896895 |  Valid loss: 0.66136368115743\n"
          ],
          "name": "stdout"
        },
        {
          "output_type": "stream",
          "text": [
            "\r100%|█████████▉| 398261/400000 [00:30<00:00, 23217.53it/s]"
          ],
          "name": "stderr"
        },
        {
          "output_type": "stream",
          "text": [
            "Epoch: 4| Train acc: 0.23903345724907063 | Train loss: 0.6644122443287228 |  Valid acc: 0.23066754791804361 |  Valid loss: 0.6618137756983439\n",
            "Epoch: 5| Train acc: 0.24605534902932671 | Train loss: 0.6619089574486725 |  Valid acc: 0.23793787177792466 |  Valid loss: 0.6591831843058268\n",
            "Epoch: 6| Train acc: 0.24770755885997522 | Train loss: 0.6612658739719038 |  Valid acc: 0.23826834104428288 |  Valid loss: 0.6584617296854655\n",
            "Epoch: 7| Train acc: 0.24993804213135068 | Train loss: 0.6608524372835587 |  Valid acc: 0.24091209517514872 |  Valid loss: 0.6581776936848959\n",
            "Epoch: 8| Train acc: 0.25225113589425857 | Train loss: 0.6598863022937623 |  Valid acc: 0.24223397224058163 |  Valid loss: 0.6572260061899821\n",
            "Epoch: 9| Train acc: 0.2665014456836018 | Train loss: 0.6532118905502762 |  Valid acc: 0.25545274289491077 |  Valid loss: 0.65025794506073\n",
            "Epoch: 10| Train acc: 0.25749690210656756 | Train loss: 0.6572396069529188 |  Valid acc: 0.24818241903502974 |  Valid loss: 0.6548604170481364\n",
            "Epoch: 11| Train acc: 0.2526228831061545 | Train loss: 0.6598940726005936 |  Valid acc: 0.24322538003965632 |  Valid loss: 0.6574968496958414\n",
            "Epoch: 12| Train acc: 0.26047087980173483 | Train loss: 0.6565150359060645 |  Valid acc: 0.2498347653668209 |  Valid loss: 0.654042641321818\n",
            "Epoch: 13| Train acc: 0.27525815778603885 | Train loss: 0.6495246585252102 |  Valid acc: 0.2670191672174488 |  Valid loss: 0.6467135747273763\n",
            "Epoch: 14| Train acc: 0.2602643535729038 | Train loss: 0.6571571933877185 |  Valid acc: 0.24950429610046265 |  Valid loss: 0.6545841296513876\n",
            "Epoch: 15| Train acc: 0.2602643535729038 | Train loss: 0.6572671855030714 |  Valid acc: 0.24917382683410444 |  Valid loss: 0.6550563176472982\n",
            "Epoch: 16| Train acc: 0.2607187112763321 | Train loss: 0.6563359967636874 |  Valid acc: 0.25082617316589556 |  Valid loss: 0.654084324836731\n",
            "Epoch: 17| Train acc: 0.264973151590252 | Train loss: 0.6544572734581134 |  Valid acc: 0.25545274289491077 |  Valid loss: 0.6521979967753092\n",
            "Epoch: 18| Train acc: 0.25344898802147875 | Train loss: 0.6604553061613622 |  Valid acc: 0.24157303370786518 |  Valid loss: 0.6586409409840902\n",
            "Epoch: 19| Train acc: 0.27430813713341595 | Train loss: 0.6510170003040485 |  Valid acc: 0.2647058823529412 |  Valid loss: 0.6484160820643107\n",
            "Epoch: 20| Train acc: 0.27781908302354397 | Train loss: 0.649773348604469 |  Valid acc: 0.2696629213483146 |  Valid loss: 0.6473904053370158\n",
            "Epoch: 21| Train acc: 0.27207765386204047 | Train loss: 0.6527496176847997 |  Valid acc: 0.2627230667547918 |  Valid loss: 0.6503727436065674\n",
            "Epoch: 22| Train acc: 0.2808343659644775 | Train loss: 0.6482210184464668 |  Valid acc: 0.2719762062128222 |  Valid loss: 0.6458372275034586\n",
            "Epoch: 23| Train acc: 0.2768690623709211 | Train loss: 0.6504702203191993 |  Valid acc: 0.2683410442828817 |  Valid loss: 0.6482937733332316\n",
            "Epoch: 24| Train acc: 0.27327550598926065 | Train loss: 0.6522837213601789 |  Valid acc: 0.2640449438202247 |  Valid loss: 0.6499202648798624\n",
            "Epoch: 25| Train acc: 0.26604708798017346 | Train loss: 0.6556899339982891 |  Valid acc: 0.25446133509583607 |  Valid loss: 0.6537408828735352\n",
            "Epoch: 26| Train acc: 0.2697232548533664 | Train loss: 0.6538056547220276 |  Valid acc: 0.2604097818902842 |  Valid loss: 0.6515982548395792\n",
            "Epoch: 27| Train acc: 0.26431226765799254 | Train loss: 0.6566467687762821 |  Valid acc: 0.25247851949768674 |  Valid loss: 0.6547878980636597\n",
            "Epoch: 28| Train acc: 0.2785212722015696 | Train loss: 0.648862169411692 |  Valid acc: 0.2723066754791804 |  Valid loss: 0.646265467007955\n",
            "Epoch: 29| Train acc: 0.2802560925237505 | Train loss: 0.6485765603098202 |  Valid acc: 0.2739590218109716 |  Valid loss: 0.6461441119511923\n",
            "Epoch: 30| Train acc: 0.26579925650557623 | Train loss: 0.6561129124623805 |  Valid acc: 0.25512227362855255 |  Valid loss: 0.6540881792704264\n",
            "Epoch: 31| Train acc: 0.27422552664188354 | Train loss: 0.6516932585623145 |  Valid acc: 0.2650363516192994 |  Valid loss: 0.6494396924972534\n",
            "Epoch: 32| Train acc: 0.27121024370095004 | Train loss: 0.6535753235024324 |  Valid acc: 0.26206212822207536 |  Valid loss: 0.6514341831207275\n",
            "Epoch: 33| Train acc: 0.27670384138785625 | Train loss: 0.6510963137986477 |  Valid acc: 0.2680105750165235 |  Valid loss: 0.6488499641418457\n",
            "Epoch: 34| Train acc: 0.2883519206939281 | Train loss: 0.6460762527183995 |  Valid acc: 0.2772637144745539 |  Valid loss: 0.6436883608500162\n",
            "Epoch: 35| Train acc: 0.2790582403965304 | Train loss: 0.6497734693864404 |  Valid acc: 0.2719762062128222 |  Valid loss: 0.6475486755371094\n",
            "Epoch: 36| Train acc: 0.28099958694754235 | Train loss: 0.6495192635971512 |  Valid acc: 0.2726371447455387 |  Valid loss: 0.647197405497233\n",
            "Epoch: 37| Train acc: 0.28508880627839733 | Train loss: 0.6477659119779642 |  Valid acc: 0.2739590218109716 |  Valid loss: 0.6455587148666382\n",
            "Epoch: 38| Train acc: 0.26897976042957455 | Train loss: 0.655271625770428 |  Valid acc: 0.25710508922670194 |  Valid loss: 0.6534598271052042\n",
            "Epoch: 39| Train acc: 0.27100371747211893 | Train loss: 0.6540562773128298 |  Valid acc: 0.26074025115664246 |  Valid loss: 0.6521681547164917\n",
            "Epoch: 40| Train acc: 0.28777364725320115 | Train loss: 0.6471543525957495 |  Valid acc: 0.2762723066754792 |  Valid loss: 0.6449189186096191\n",
            "Epoch: 41| Train acc: 0.28137133415943827 | Train loss: 0.6497476220445457 |  Valid acc: 0.271645736946464 |  Valid loss: 0.6476407448450724\n",
            "Epoch: 42| Train acc: 0.28475836431226764 | Train loss: 0.649080945822683 |  Valid acc: 0.2729676140118969 |  Valid loss: 0.6469847758611044\n",
            "Epoch: 43| Train acc: 0.29508467575382075 | Train loss: 0.642827137164516 |  Valid acc: 0.2878387309980172 |  Valid loss: 0.6406551996866862\n",
            "Epoch: 44| Train acc: 0.2767451466336225 | Train loss: 0.6521884646453455 |  Valid acc: 0.2680105750165235 |  Valid loss: 0.6502750714619955\n",
            "Epoch: 45| Train acc: 0.28364312267657993 | Train loss: 0.6496469704016532 |  Valid acc: 0.2723066754791804 |  Valid loss: 0.6474694410959879\n",
            "Epoch: 46| Train acc: 0.2847996695580339 | Train loss: 0.6491767259260596 |  Valid acc: 0.2726371447455387 |  Valid loss: 0.6471364498138428\n",
            "Epoch: 47| Train acc: 0.2762494836844279 | Train loss: 0.6522807420715493 |  Valid acc: 0.267349636483807 |  Valid loss: 0.6503099203109741\n",
            "Epoch: 48| Train acc: 0.2819909128459314 | Train loss: 0.6505608067978026 |  Valid acc: 0.271645736946464 |  Valid loss: 0.6486291488011678\n",
            "Epoch: 49| Train acc: 0.2902106567534077 | Train loss: 0.6464240242749216 |  Valid acc: 0.2802379378717779 |  Valid loss: 0.6443090438842773\n",
            "Epoch: 50| Train acc: 0.28831061544816194 | Train loss: 0.6478529152580804 |  Valid acc: 0.2772637144745539 |  Valid loss: 0.6457140843073527\n"
          ],
          "name": "stdout"
        },
        {
          "output_type": "display_data",
          "data": {
            "image/png": "[encoded data removed]",
            "text/plain": [
              "<Figure size 432x288 with 1 Axes>"
            ]
          },
          "metadata": {
            "tags": [],
            "needs_background": "light"
          }
        },
        {
          "output_type": "display_data",
          "data": {
            "image/png": "[encoded data removed]",
            "text/plain": [
              "<Figure size 432x288 with 1 Axes>"
            ]
          },
          "metadata": {
            "tags": [],
            "needs_background": "light"
          }
        }
      ]
    },
    {
      "cell_type": "code",
      "metadata": {
        "id": "Z_MMJkB4FC2W"
      },
      "source": [
        ""
      ],
      "execution_count": null,
      "outputs": []
    }
  ]
}