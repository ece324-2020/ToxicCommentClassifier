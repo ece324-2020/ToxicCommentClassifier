{
  "nbformat": 4,
  "nbformat_minor": 0,
  "metadata": {
    "colab": {
      "name": "CNN_LSTM_binary",
      "provenance": []
    },
    "kernelspec": {
      "name": "python3",
      "display_name": "Python 3"
    }
  },
  "cells": [
    {
      "cell_type": "code",
      "metadata": {
        "id": "VEuuGIOACiV_",
        "colab": {
          "base_uri": "https://localhost:8080/"
        },
        "outputId": "23fe6228-2067-4746-f0fe-1b885068a6dc"
      },
      "source": [
        "!python -m spacy download en"
      ],
      "execution_count": 1,
      "outputs": [
        {
          "output_type": "stream",
          "text": [
            "Requirement already satisfied: en_core_web_sm==2.2.5 from https://github.com/explosion/spacy-models/releases/download/en_core_web_sm-2.2.5/en_core_web_sm-2.2.5.tar.gz#egg=en_core_web_sm==2.2.5 in /usr/local/lib/python3.6/dist-packages (2.2.5)\n",
            "Requirement already satisfied: spacy>=2.2.2 in /usr/local/lib/python3.6/dist-packages (from en_core_web_sm==2.2.5) (2.2.4)\n",
            "Requirement already satisfied: tqdm<5.0.0,>=4.38.0 in /usr/local/lib/python3.6/dist-packages (from spacy>=2.2.2->en_core_web_sm==2.2.5) (4.41.1)\n",
            "Requirement already satisfied: blis<0.5.0,>=0.4.0 in /usr/local/lib/python3.6/dist-packages (from spacy>=2.2.2->en_core_web_sm==2.2.5) (0.4.1)\n",
            "Requirement already satisfied: requests<3.0.0,>=2.13.0 in /usr/local/lib/python3.6/dist-packages (from spacy>=2.2.2->en_core_web_sm==2.2.5) (2.23.0)\n",
            "Requirement already satisfied: thinc==7.4.0 in /usr/local/lib/python3.6/dist-packages (from spacy>=2.2.2->en_core_web_sm==2.2.5) (7.4.0)\n",
            "Requirement already satisfied: setuptools in /usr/local/lib/python3.6/dist-packages (from spacy>=2.2.2->en_core_web_sm==2.2.5) (50.3.2)\n",
            "Requirement already satisfied: catalogue<1.1.0,>=0.0.7 in /usr/local/lib/python3.6/dist-packages (from spacy>=2.2.2->en_core_web_sm==2.2.5) (1.0.0)\n",
            "Requirement already satisfied: murmurhash<1.1.0,>=0.28.0 in /usr/local/lib/python3.6/dist-packages (from spacy>=2.2.2->en_core_web_sm==2.2.5) (1.0.3)\n",
            "Requirement already satisfied: numpy>=1.15.0 in /usr/local/lib/python3.6/dist-packages (from spacy>=2.2.2->en_core_web_sm==2.2.5) (1.18.5)\n",
            "Requirement already satisfied: srsly<1.1.0,>=1.0.2 in /usr/local/lib/python3.6/dist-packages (from spacy>=2.2.2->en_core_web_sm==2.2.5) (1.0.2)\n",
            "Requirement already satisfied: preshed<3.1.0,>=3.0.2 in /usr/local/lib/python3.6/dist-packages (from spacy>=2.2.2->en_core_web_sm==2.2.5) (3.0.2)\n",
            "Requirement already satisfied: cymem<2.1.0,>=2.0.2 in /usr/local/lib/python3.6/dist-packages (from spacy>=2.2.2->en_core_web_sm==2.2.5) (2.0.4)\n",
            "Requirement already satisfied: plac<1.2.0,>=0.9.6 in /usr/local/lib/python3.6/dist-packages (from spacy>=2.2.2->en_core_web_sm==2.2.5) (1.1.3)\n",
            "Requirement already satisfied: wasabi<1.1.0,>=0.4.0 in /usr/local/lib/python3.6/dist-packages (from spacy>=2.2.2->en_core_web_sm==2.2.5) (0.8.0)\n",
            "Requirement already satisfied: certifi>=2017.4.17 in /usr/local/lib/python3.6/dist-packages (from requests<3.0.0,>=2.13.0->spacy>=2.2.2->en_core_web_sm==2.2.5) (2020.6.20)\n",
            "Requirement already satisfied: idna<3,>=2.5 in /usr/local/lib/python3.6/dist-packages (from requests<3.0.0,>=2.13.0->spacy>=2.2.2->en_core_web_sm==2.2.5) (2.10)\n",
            "Requirement already satisfied: urllib3!=1.25.0,!=1.25.1,<1.26,>=1.21.1 in /usr/local/lib/python3.6/dist-packages (from requests<3.0.0,>=2.13.0->spacy>=2.2.2->en_core_web_sm==2.2.5) (1.24.3)\n",
            "Requirement already satisfied: chardet<4,>=3.0.2 in /usr/local/lib/python3.6/dist-packages (from requests<3.0.0,>=2.13.0->spacy>=2.2.2->en_core_web_sm==2.2.5) (3.0.4)\n",
            "Requirement already satisfied: importlib-metadata>=0.20; python_version < \"3.8\" in /usr/local/lib/python3.6/dist-packages (from catalogue<1.1.0,>=0.0.7->spacy>=2.2.2->en_core_web_sm==2.2.5) (2.0.0)\n",
            "Requirement already satisfied: zipp>=0.5 in /usr/local/lib/python3.6/dist-packages (from importlib-metadata>=0.20; python_version < \"3.8\"->catalogue<1.1.0,>=0.0.7->spacy>=2.2.2->en_core_web_sm==2.2.5) (3.4.0)\n",
            "\u001b[38;5;2m✔ Download and installation successful\u001b[0m\n",
            "You can now load the model via spacy.load('en_core_web_sm')\n",
            "\u001b[38;5;2m✔ Linking successful\u001b[0m\n",
            "/usr/local/lib/python3.6/dist-packages/en_core_web_sm -->\n",
            "/usr/local/lib/python3.6/dist-packages/spacy/data/en\n",
            "You can now load the model via spacy.load('en')\n"
          ],
          "name": "stdout"
        }
      ]
    },
    {
      "cell_type": "code",
      "metadata": {
        "id": "gpNEdSpUh9Kq",
        "colab": {
          "base_uri": "https://localhost:8080/"
        },
        "outputId": "054a2546-6d0c-4027-fbb8-36bfe9a29bc7"
      },
      "source": [
        "############### upload data\n",
        "# Mount Google drive to load data\n",
        "from google.colab import drive\n",
        "drive.mount('/content/drive', force_remount=True)"
      ],
      "execution_count": 2,
      "outputs": [
        {
          "output_type": "stream",
          "text": [
            "Mounted at /content/drive\n"
          ],
          "name": "stdout"
        }
      ]
    },
    {
      "cell_type": "code",
      "metadata": {
        "id": "rDgdevlejEHj",
        "colab": {
          "base_uri": "https://localhost:8080/"
        },
        "outputId": "f597c651-ea07-4643-9704-9fa611debd61"
      },
      "source": [
        "import numpy as np\n",
        "import pandas as pd\n",
        "\n",
        "path ='/content/drive/MyDrive/ece367/ECE324 project/dataProcessing/processed_data/test.csv'\n",
        "\n",
        "text_data = pd.read_csv(path, sep=',')\n",
        "print(text_data)"
      ],
      "execution_count": 5,
      "outputs": [
        {
          "output_type": "stream",
          "text": [
            "                    id  ... identity_hate\n",
            "0     21cb9147466a97d9  ...             0\n",
            "1     e5cc96a965a9477c  ...             0\n",
            "2     48cf4e824ff9ab27  ...             0\n",
            "3     e1828969a07a48bd  ...             0\n",
            "4     a0b2f29fec82305f  ...             0\n",
            "...                ...  ...           ...\n",
            "3241  95eda78799f2f83c  ...             0\n",
            "3242  f0bf335ca4522653  ...             1\n",
            "3243  2039c94121e73102  ...             0\n",
            "3244  4f8662c6f69546ee  ...             0\n",
            "3245  b2f2fc2fd961d836  ...             0\n",
            "\n",
            "[3246 rows x 8 columns]\n"
          ],
          "name": "stdout"
        }
      ]
    },
    {
      "cell_type": "code",
      "metadata": {
        "id": "P4iZgByfU52b"
      },
      "source": [
        "############## train function and accuracy function\n",
        "import matplotlib.pyplot as plt\n",
        "\n",
        "def get_accuracy(net,dataloader):\n",
        "    seed = 1\n",
        "    torch.manual_seed(seed)\n",
        "    lossfunction = torch.nn.BCEWithLogitsLoss()  \n",
        "    running_loss = 0.0\n",
        "    train_correct= 0\n",
        "    total_data= 0\n",
        "    acc = 0\n",
        "    for i, data in enumerate(dataloader, 0):\n",
        "          inputs,inputs_length = data.text\n",
        "          labels = data.label.float()\n",
        "\n",
        "          # forward + backward + optimize\n",
        "          outputs = net(inputs,inputs_length)\n",
        "          # print(outputs)\n",
        "          loss = lossfunction(outputs, labels)\n",
        "          \n",
        "          running_loss += loss.item()\n",
        "          # print('vali--running_loss',running_loss)\n",
        "\n",
        "\n",
        "          # calculate train accuracy\n",
        "          outputs = (outputs>0.5).float()\n",
        "          train_correct += (outputs == labels).sum().item()\n",
        "          # calculate total number of data\n",
        "          total_data += labels.size(0)\n",
        "          # print('total_data',total_data)\n",
        "          # print('train_correct',train_correct)\n",
        "          acc = train_correct/total_data\n",
        "    \n",
        "    # print('---------vali--running_loss',running_loss)\n",
        "    return running_loss/(i+1),acc\n"
      ],
      "execution_count": 22,
      "outputs": []
    },
    {
      "cell_type": "code",
      "metadata": {
        "id": "iEkARCFCUV8z"
      },
      "source": [
        "import torch\n",
        "import torch.nn as nn\n",
        "import torch.optim as optim\n",
        "\n",
        "import torchtext\n",
        "from torchtext import data\n",
        "import spacy\n",
        "import numpy as np\n",
        "import pandas as pd\n",
        "import matplotlib.pyplot as plt\n",
        "\n",
        "import argparse\n",
        "import os\n",
        "import datetime, time"
      ],
      "execution_count": 21,
      "outputs": []
    },
    {
      "cell_type": "code",
      "metadata": {
        "id": "fkvzWrU_7vbr"
      },
      "source": [
        "from torch.nn.utils.rnn import pack_padded_sequence, pad_packed_sequence\n",
        "import torch\n",
        "import torch.nn as nn\n",
        "import torch.nn.functional as F\n",
        "\n",
        "class CNN_LSTM(nn.Module):\n",
        "    def __init__(self, embedding_dim, vocab, hidden_dim=100):\n",
        "        super(CNN_LSTM, self).__init__()\n",
        "        self.embedding = nn.Embedding.from_pretrained(vocab.vectors)\n",
        "        self.hidden_dim = hidden_dim\n",
        "\n",
        "        self.conv1 = nn.Conv2d(1, 100,kernel_size=(2,embedding_dim)) #in_channels, out_chanels, kernel_size\n",
        "        \n",
        "        \n",
        "        self.lstm1 = nn.LSTM(embedding_dim,hidden_dim)\n",
        "        target_size = 1\n",
        "        self.fc1 = nn.Linear(hidden_dim, target_size)\n",
        "\n",
        "    def forward(self, x, lengths):\n",
        "    #   embeds = self.word_embeddings(sentence)\n",
        "    #     lstm_out, _ = self.lstm(embeds.view(len(sentence), 1, -1))\n",
        "    #     tag_space = self.hidden2tag(lstm_out.view(len(sentence), -1))\n",
        "    #     tag_scores = F.log_softmax(tag_space, dim=1)\n",
        "    #     return tag_scores\n",
        "        \n",
        "        x = self.embedding(x)\n",
        "        # print('x.shape',x.shape)\n",
        "\n",
        "        x = x.unsqueeze(0)\n",
        "        # print('x = x.unsqueeze(0)',x.shape)\n",
        "        x = x.transpose(1,2) # swaps 2nd and 3rd dimension\n",
        "        # print('x = x.transpose(1,2)',x.shape)\n",
        "        x = x.transpose(0,1) # swaps 1st and 2nd dimension, now it has the correct input (n_samples,channels, height, width)\n",
        "        # print('x = x.transpose(0,1)',x.shape)\n",
        "        x1 = F.relu(self.conv1(x)) \n",
        "        # print('x1 = F.relu(self.conv1(x))',x1.shape)\n",
        "        \n",
        "        x1 = x1.squeeze(3)\n",
        "        # print('x1 = x1.squeeze(3)',x1.shape)\n",
        "        pool1 = nn.MaxPool1d(x1.size(2), 1) #maxpool\n",
        "        \n",
        "        x = pool1(x1)\n",
        "        # print('pool1 = nn.MaxPool1d(x1.size(2), 1)',x.shape)\n",
        "        x = x.squeeze(2)\n",
        "        x = x.unsqueeze(0)\n",
        "        # print('x = x.squeeze(2)',x.shape)\n",
        "\n",
        "\n",
        "        #  pack the word embeddings in the batch together and \n",
        "        # run the RNN on this object\n",
        "        # x = pack_padded_sequence(x,lengths) \n",
        "        # print('x.shape',x.shape)\n",
        "        x,(h,c) = self.lstm1(x)\n",
        "        # print('x.shape',x.shape)\n",
        "        # print('h.shape',h.shape)\n",
        "        # print('len(h)',len(h))\n",
        "        # print('(x.view(len(lengths),-1)).shape',(x.view(len(lengths),-1)).shape)\n",
        "        h_result = self.fc1(h.squeeze(0))\n",
        "        # h_result = F.log_softmax(tag_space, dim=1) --> change to this with multiple cat\n",
        "        h_result = torch.sigmoid(h_result)\n",
        "        \n",
        "\n",
        "        return h_result.squeeze(1)"
      ],
      "execution_count": 9,
      "outputs": []
    },
    {
      "cell_type": "code",
      "metadata": {
        "id": "3jJdM4Axma5I"
      },
      "source": [
        "def trainRNN_R(seed = 0, batch_size = 64, learning_rate = 0.001, epochs = 25, model = CNN_LSTM, emb_dim = 100, rnn_hidden_dim = 100, num_filt = 50):\n",
        "\n",
        "\n",
        "  torch.manual_seed(seed)\n",
        "    \n",
        "  COMMENT_TEXT    = data.Field(sequential=True,lower=True, tokenize='spacy', include_lengths=True)\n",
        "  # TOXIC           = data.Field(sequential=False, use_vocab=False)\n",
        "  # SEVERE_TOXIC    = data.Field(sequential=False, use_vocab=False)\n",
        "  OBSCENE         = data.Field(sequential=False, use_vocab=False)\n",
        "  # THREAT          = data.Field(sequential=False, use_vocab=False)\n",
        "  # INSULT          = data.Field(sequential=False, use_vocab=False)\n",
        "  # IDENTITY_HATE   = data.Field(sequential=False, use_vocab=False)\n",
        "\n",
        "  train_data, val_data, test_data = data.TabularDataset.splits(\n",
        "          path='/content/drive/MyDrive/ece367/ECE324 project/dataProcessing/processed_data/binary', train='binary_train.csv',\n",
        "          validation='binary_valid.csv', test='binary_test.csv', format='csv',\n",
        "          skip_header=True, fields=[('id', None), ('text', COMMENT_TEXT), ('toxic', None), ('severe_toxic', None), ('label', OBSCENE), ('threat', None), ('insult', None), ('identity_hate', None)])\n",
        "          # COMMENT_TEXT\n",
        "  train_iter, val_iter, test_iter = data.BucketIterator.splits(\n",
        "      (train_data, val_data, test_data), batch_sizes=(batch_size, batch_size,batch_size),\n",
        "      sort_key=lambda x: len(x.text), device=None, sort_within_batch=True, repeat=False)\n",
        "\n",
        "  COMMENT_TEXT.build_vocab(train_data, val_data, test_data)\n",
        "\n",
        "  COMMENT_TEXT.vocab.load_vectors(torchtext.vocab.GloVe(name='6B', dim=100))\n",
        "  vocab = COMMENT_TEXT.vocab\n",
        "\n",
        "  model = model(emb_dim, vocab)\n",
        "  # model = model(vocab)\n",
        "\n",
        "  criterion = nn.BCEWithLogitsLoss()\n",
        "  optimizer = optim.Adam(model.parameters(), lr=learning_rate)\n",
        "  lossCount = []\n",
        "  valLossCount = []\n",
        "  accCount = []\n",
        "  valAccCount = []\n",
        "  testLossCount = []\n",
        "  testAccCount = []\n",
        "  epochCount = []\n",
        "  \n",
        "  for epoch in range(epochs):  # loop over the dataset multiple times\n",
        "      correct = 0\n",
        "      total = 0\n",
        "      runningLoss = 0.0\n",
        "      numberOfBatches = 0\n",
        "      valCorrect = 0\n",
        "      valRunningLoss = 0.0\n",
        "      valNumberOfBatches = 0\n",
        "      valTotal = 0\n",
        "      for i, batch in enumerate(train_iter, 0):\n",
        "          # get the set of text sentences in the batch and length of the sentence sequences\n",
        "          batch_input, batch_input_length = batch.text\n",
        "          labels = batch.label.float()    \n",
        "      \n",
        "          # zero the parameter gradients\n",
        "          optimizer.zero_grad()\n",
        "\n",
        "          # forward + backward + optimize\n",
        "          outputs = model(batch_input, batch_input_length)\n",
        "          loss = criterion(outputs, labels)\n",
        "          loss.backward()\n",
        "          optimizer.step()\n",
        "\n",
        "          \n",
        "          # evaluate training accuracy\n",
        "          with torch.no_grad():\n",
        "            outputs = (outputs>0.5).float()\n",
        "            correct += (outputs == labels).sum().item()\n",
        "          \n",
        "          # add training loss\n",
        "          runningLoss += loss.item()\n",
        "\n",
        "          # count the number of batches and samples\n",
        "          numberOfBatches += 1\n",
        "          total += labels.size(0)\n",
        "\n",
        "\n",
        "\n",
        "      # evaluate validation loss and \n",
        "      with torch.no_grad():\n",
        "        for batch in val_iter:\n",
        "          batch_input, batch_input_length = batch.text\n",
        "          labels = batch.label.float()    \n",
        "          outputs = model(batch_input, batch_input_length)\n",
        "          loss = criterion(outputs, labels)\n",
        "          valRunningLoss += loss.item()\n",
        "          outputs = (outputs>0.5).float()\n",
        "          valCorrect += (outputs == labels).sum().item()\n",
        "          valTotal += labels.size(0)\n",
        "          valNumberOfBatches += 1\n",
        "\n",
        "\n",
        "      runningLoss = runningLoss/numberOfBatches\n",
        "      correct = correct/total\n",
        "      valRunningLoss = valRunningLoss/valNumberOfBatches\n",
        "      valCorrect = valCorrect/valTotal\n",
        "      # print statistics for every epoch)\n",
        "      print('[%d] train loss: %.3f, train acc: %.3f, validation loss: %.3f, validation acc: %.3f ' %\n",
        "                    (epoch + 1, runningLoss, correct, valRunningLoss, valCorrect))\n",
        "      lossCount += [runningLoss]\n",
        "      accCount += [correct]\n",
        "      epochCount += [epoch+1]\n",
        "      valLossCount += [valRunningLoss]\n",
        "      valAccCount += [valCorrect]\n",
        "\n",
        "      \n",
        "\n",
        "  testCorrect = 0\n",
        "  testRunningLoss = 0.0\n",
        "  testNumberOfBatches = 0\n",
        "  testTotal = 0\n",
        "  with torch.no_grad():\n",
        "        for batch in test_iter:\n",
        "          batch_input, batch_input_length = batch.text\n",
        "          labels = batch.label.float()    \n",
        "          outputs = model(batch_input, batch_input_length)\n",
        "          loss = criterion(outputs, labels)\n",
        "          testRunningLoss += loss.item()\n",
        "          outputs = (outputs>0.5).float()\n",
        "          testCorrect += (outputs == labels).sum().item()\n",
        "          testTotal += labels.size(0)\n",
        "          testNumberOfBatches += 1\n",
        "        testRunningLoss = testRunningLoss/testNumberOfBatches\n",
        "        testLossCount += [testRunningLoss]\n",
        "        testAccCount += [testCorrect]\n",
        "  print('Finished Training. Test accuracy is %.3f and loss is %.3f' % (testCorrect/testTotal, testRunningLoss))\n",
        "\n",
        "  #plot\n",
        "  plt.title(\"Loss Curve\")\n",
        "  plt.plot(epochCount, lossCount, label=\"Training\")\n",
        "  plt.plot(epochCount, valLossCount, label=\"Validation\")\n",
        "  # plt.plot(epochCount, testLossCount, label=\"Testing\")\n",
        "  plt.xlabel(\"Number of Epochs\")\n",
        "  plt.ylabel(\"Loss\")\n",
        "  plt.legend(loc='best')\n",
        "  plt.show()\n",
        "\n",
        "\n",
        "  plt.title(\"Accuracy Curve\")\n",
        "  plt.plot(epochCount, accCount, label = \"Training\")\n",
        "  plt.plot(epochCount, valAccCount, label = \"Validation\")\n",
        "  # plt.plot(epochCount, testAccCount, label=\"Testing\")\n",
        "  plt.xlabel(\"Number of Epochs\")\n",
        "  plt.ylabel(\"Accuracy\")\n",
        "  plt.legend(loc='best')\n",
        "  plt.show()\n",
        "  torch.save(model,'model_rnn.pt')"
      ],
      "execution_count": 30,
      "outputs": []
    },
    {
      "cell_type": "code",
      "metadata": {
        "colab": {
          "base_uri": "https://localhost:8080/",
          "height": 1000
        },
        "id": "Ix1PMK_mmd9o",
        "outputId": "a49cdab3-3901-4852-abc9-a2e1ee6a2e0c"
      },
      "source": [
        "trainRNN_R(seed = 0, batch_size = 64, learning_rate = 0.001, epochs = 40, model = CNN_LSTM, emb_dim = 100, rnn_hidden_dim = 100, num_filt = 50)"
      ],
      "execution_count": 32,
      "outputs": [
        {
          "output_type": "stream",
          "text": [
            "[1] train loss: 0.570, train acc: 0.845, validation loss: 0.537, validation acc: 0.929 \n",
            "[2] train loss: 0.532, train acc: 0.937, validation loss: 0.534, validation acc: 0.921 \n",
            "[3] train loss: 0.528, train acc: 0.944, validation loss: 0.532, validation acc: 0.936 \n",
            "[4] train loss: 0.525, train acc: 0.952, validation loss: 0.530, validation acc: 0.938 \n",
            "[5] train loss: 0.523, train acc: 0.955, validation loss: 0.530, validation acc: 0.941 \n",
            "[6] train loss: 0.521, train acc: 0.959, validation loss: 0.530, validation acc: 0.941 \n",
            "[7] train loss: 0.520, train acc: 0.963, validation loss: 0.529, validation acc: 0.936 \n",
            "[8] train loss: 0.519, train acc: 0.965, validation loss: 0.529, validation acc: 0.944 \n",
            "[9] train loss: 0.518, train acc: 0.966, validation loss: 0.529, validation acc: 0.934 \n",
            "[10] train loss: 0.518, train acc: 0.967, validation loss: 0.528, validation acc: 0.946 \n",
            "[11] train loss: 0.515, train acc: 0.972, validation loss: 0.532, validation acc: 0.942 \n",
            "[12] train loss: 0.515, train acc: 0.973, validation loss: 0.527, validation acc: 0.946 \n",
            "[13] train loss: 0.515, train acc: 0.972, validation loss: 0.528, validation acc: 0.945 \n",
            "[14] train loss: 0.516, train acc: 0.972, validation loss: 0.527, validation acc: 0.943 \n",
            "[15] train loss: 0.515, train acc: 0.974, validation loss: 0.527, validation acc: 0.946 \n",
            "[16] train loss: 0.514, train acc: 0.977, validation loss: 0.528, validation acc: 0.949 \n",
            "[17] train loss: 0.513, train acc: 0.978, validation loss: 0.527, validation acc: 0.947 \n",
            "[18] train loss: 0.513, train acc: 0.978, validation loss: 0.526, validation acc: 0.949 \n",
            "[19] train loss: 0.513, train acc: 0.979, validation loss: 0.535, validation acc: 0.939 \n",
            "[20] train loss: 0.512, train acc: 0.980, validation loss: 0.526, validation acc: 0.949 \n",
            "[21] train loss: 0.512, train acc: 0.981, validation loss: 0.525, validation acc: 0.947 \n",
            "[22] train loss: 0.512, train acc: 0.980, validation loss: 0.526, validation acc: 0.947 \n",
            "[23] train loss: 0.511, train acc: 0.981, validation loss: 0.526, validation acc: 0.951 \n",
            "[24] train loss: 0.511, train acc: 0.982, validation loss: 0.531, validation acc: 0.930 \n",
            "[25] train loss: 0.513, train acc: 0.978, validation loss: 0.531, validation acc: 0.943 \n",
            "[26] train loss: 0.512, train acc: 0.981, validation loss: 0.527, validation acc: 0.949 \n",
            "[27] train loss: 0.512, train acc: 0.981, validation loss: 0.532, validation acc: 0.943 \n",
            "[28] train loss: 0.512, train acc: 0.980, validation loss: 0.530, validation acc: 0.946 \n",
            "[29] train loss: 0.514, train acc: 0.976, validation loss: 0.532, validation acc: 0.942 \n",
            "[30] train loss: 0.511, train acc: 0.982, validation loss: 0.524, validation acc: 0.952 \n",
            "[31] train loss: 0.510, train acc: 0.984, validation loss: 0.525, validation acc: 0.950 \n",
            "[32] train loss: 0.510, train acc: 0.985, validation loss: 0.527, validation acc: 0.950 \n",
            "[33] train loss: 0.511, train acc: 0.982, validation loss: 0.526, validation acc: 0.950 \n",
            "[34] train loss: 0.510, train acc: 0.984, validation loss: 0.530, validation acc: 0.944 \n",
            "[35] train loss: 0.510, train acc: 0.985, validation loss: 0.525, validation acc: 0.949 \n",
            "[36] train loss: 0.510, train acc: 0.984, validation loss: 0.525, validation acc: 0.947 \n",
            "[37] train loss: 0.510, train acc: 0.984, validation loss: 0.525, validation acc: 0.947 \n",
            "[38] train loss: 0.510, train acc: 0.985, validation loss: 0.529, validation acc: 0.946 \n",
            "[39] train loss: 0.510, train acc: 0.985, validation loss: 0.527, validation acc: 0.947 \n",
            "[40] train loss: 0.510, train acc: 0.984, validation loss: 0.532, validation acc: 0.943 \n",
            "Finished Training. Test accuracy is 0.948 and loss is 0.529\n"
          ],
          "name": "stdout"
        },
        {
          "output_type": "display_data",
          "data": {
            "image/png": "[encoded data removed]",
            "text/plain": [
              "<Figure size 432x288 with 1 Axes>"
            ]
          },
          "metadata": {
            "tags": [],
            "needs_background": "light"
          }
        },
        {
          "output_type": "display_data",
          "data": {
            "image/png": "[encoded data removed]",
            "text/plain": [
              "<Figure size 432x288 with 1 Axes>"
            ]
          },
          "metadata": {
            "tags": [],
            "needs_background": "light"
          }
        }
      ]
    }
  ]
}