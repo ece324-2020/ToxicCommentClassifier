{
  "nbformat": 4,
  "nbformat_minor": 0,
  "metadata": {
    "colab": {
      "name": "CNN_LSTM_multi_label_together_NEW_ACC",
      "provenance": [],
      "collapsed_sections": [],
      "toc_visible": true
    },
    "kernelspec": {
      "name": "python3",
      "display_name": "Python 3"
    }
  },
  "cells": [
    {
      "cell_type": "code",
      "metadata": {
        "id": "VEuuGIOACiV_",
        "colab": {
          "base_uri": "https://localhost:8080/"
        },
        "outputId": "aac317e6-607f-446a-ff4d-dffd2041348d"
      },
      "source": [
        "!python -m spacy download en"
      ],
      "execution_count": 1,
      "outputs": [
        {
          "output_type": "stream",
          "text": [
            "Requirement already satisfied: en_core_web_sm==2.2.5 from https://github.com/explosion/spacy-models/releases/download/en_core_web_sm-2.2.5/en_core_web_sm-2.2.5.tar.gz#egg=en_core_web_sm==2.2.5 in /usr/local/lib/python3.6/dist-packages (2.2.5)\n",
            "Requirement already satisfied: spacy>=2.2.2 in /usr/local/lib/python3.6/dist-packages (from en_core_web_sm==2.2.5) (2.2.4)\n",
            "Requirement already satisfied: plac<1.2.0,>=0.9.6 in /usr/local/lib/python3.6/dist-packages (from spacy>=2.2.2->en_core_web_sm==2.2.5) (1.1.3)\n",
            "Requirement already satisfied: cymem<2.1.0,>=2.0.2 in /usr/local/lib/python3.6/dist-packages (from spacy>=2.2.2->en_core_web_sm==2.2.5) (2.0.4)\n",
            "Requirement already satisfied: catalogue<1.1.0,>=0.0.7 in /usr/local/lib/python3.6/dist-packages (from spacy>=2.2.2->en_core_web_sm==2.2.5) (1.0.0)\n",
            "Requirement already satisfied: requests<3.0.0,>=2.13.0 in /usr/local/lib/python3.6/dist-packages (from spacy>=2.2.2->en_core_web_sm==2.2.5) (2.23.0)\n",
            "Requirement already satisfied: setuptools in /usr/local/lib/python3.6/dist-packages (from spacy>=2.2.2->en_core_web_sm==2.2.5) (50.3.2)\n",
            "Requirement already satisfied: murmurhash<1.1.0,>=0.28.0 in /usr/local/lib/python3.6/dist-packages (from spacy>=2.2.2->en_core_web_sm==2.2.5) (1.0.4)\n",
            "Requirement already satisfied: preshed<3.1.0,>=3.0.2 in /usr/local/lib/python3.6/dist-packages (from spacy>=2.2.2->en_core_web_sm==2.2.5) (3.0.4)\n",
            "Requirement already satisfied: srsly<1.1.0,>=1.0.2 in /usr/local/lib/python3.6/dist-packages (from spacy>=2.2.2->en_core_web_sm==2.2.5) (1.0.4)\n",
            "Requirement already satisfied: tqdm<5.0.0,>=4.38.0 in /usr/local/lib/python3.6/dist-packages (from spacy>=2.2.2->en_core_web_sm==2.2.5) (4.41.1)\n",
            "Requirement already satisfied: thinc==7.4.0 in /usr/local/lib/python3.6/dist-packages (from spacy>=2.2.2->en_core_web_sm==2.2.5) (7.4.0)\n",
            "Requirement already satisfied: numpy>=1.15.0 in /usr/local/lib/python3.6/dist-packages (from spacy>=2.2.2->en_core_web_sm==2.2.5) (1.18.5)\n",
            "Requirement already satisfied: blis<0.5.0,>=0.4.0 in /usr/local/lib/python3.6/dist-packages (from spacy>=2.2.2->en_core_web_sm==2.2.5) (0.4.1)\n",
            "Requirement already satisfied: wasabi<1.1.0,>=0.4.0 in /usr/local/lib/python3.6/dist-packages (from spacy>=2.2.2->en_core_web_sm==2.2.5) (0.8.0)\n",
            "Requirement already satisfied: importlib-metadata>=0.20; python_version < \"3.8\" in /usr/local/lib/python3.6/dist-packages (from catalogue<1.1.0,>=0.0.7->spacy>=2.2.2->en_core_web_sm==2.2.5) (2.0.0)\n",
            "Requirement already satisfied: urllib3!=1.25.0,!=1.25.1,<1.26,>=1.21.1 in /usr/local/lib/python3.6/dist-packages (from requests<3.0.0,>=2.13.0->spacy>=2.2.2->en_core_web_sm==2.2.5) (1.24.3)\n",
            "Requirement already satisfied: idna<3,>=2.5 in /usr/local/lib/python3.6/dist-packages (from requests<3.0.0,>=2.13.0->spacy>=2.2.2->en_core_web_sm==2.2.5) (2.10)\n",
            "Requirement already satisfied: certifi>=2017.4.17 in /usr/local/lib/python3.6/dist-packages (from requests<3.0.0,>=2.13.0->spacy>=2.2.2->en_core_web_sm==2.2.5) (2020.11.8)\n",
            "Requirement already satisfied: chardet<4,>=3.0.2 in /usr/local/lib/python3.6/dist-packages (from requests<3.0.0,>=2.13.0->spacy>=2.2.2->en_core_web_sm==2.2.5) (3.0.4)\n",
            "Requirement already satisfied: zipp>=0.5 in /usr/local/lib/python3.6/dist-packages (from importlib-metadata>=0.20; python_version < \"3.8\"->catalogue<1.1.0,>=0.0.7->spacy>=2.2.2->en_core_web_sm==2.2.5) (3.4.0)\n",
            "\u001b[38;5;2m✔ Download and installation successful\u001b[0m\n",
            "You can now load the model via spacy.load('en_core_web_sm')\n",
            "\u001b[38;5;2m✔ Linking successful\u001b[0m\n",
            "/usr/local/lib/python3.6/dist-packages/en_core_web_sm -->\n",
            "/usr/local/lib/python3.6/dist-packages/spacy/data/en\n",
            "You can now load the model via spacy.load('en')\n"
          ],
          "name": "stdout"
        }
      ]
    },
    {
      "cell_type": "markdown",
      "metadata": {
        "id": "u0v1a-p14vIT"
      },
      "source": [
        "## TOP\n"
      ]
    },
    {
      "cell_type": "code",
      "metadata": {
        "id": "gpNEdSpUh9Kq",
        "colab": {
          "base_uri": "https://localhost:8080/"
        },
        "outputId": "a0dc1933-4276-478d-8343-8ac66b559ffc"
      },
      "source": [
        "############### upload data\n",
        "# Mount Google drive to load data\n",
        "from google.colab import drive\n",
        "drive.mount('/content/drive', force_remount=True)"
      ],
      "execution_count": 2,
      "outputs": [
        {
          "output_type": "stream",
          "text": [
            "Mounted at /content/drive\n"
          ],
          "name": "stdout"
        }
      ]
    },
    {
      "cell_type": "code",
      "metadata": {
        "id": "rDgdevlejEHj",
        "colab": {
          "base_uri": "https://localhost:8080/"
        },
        "outputId": "4df9f354-47c5-4b20-966a-97ea90faabad"
      },
      "source": [
        "import numpy as np\n",
        "import pandas as pd\n",
        "\n",
        "path ='/content/drive/MyDrive/ece367/ECE324 project/dataProcessing/new_processed_data/test.csv'\n",
        "\n",
        "text_data = pd.read_csv(path, sep=',')\n",
        "print(text_data)"
      ],
      "execution_count": 3,
      "outputs": [
        {
          "output_type": "stream",
          "text": [
            "                    id  ... identity_hate\n",
            "0     6d5688fab66073c6  ...             1\n",
            "1     64fc056641dba716  ...             0\n",
            "2     ff5c60747f023cbd  ...             0\n",
            "3     d4e23c86f5b1d708  ...             1\n",
            "4     9a9dc24ba68e7597  ...             0\n",
            "...                ...  ...           ...\n",
            "3022  0cf27594013bb708  ...             0\n",
            "3023  c04d00a14a202a94  ...             0\n",
            "3024  b00ced343a0c5d8b  ...             1\n",
            "3025  6ae73417bb0c7b61  ...             0\n",
            "3026  fcda70fcb02196ce  ...             1\n",
            "\n",
            "[3027 rows x 8 columns]\n"
          ],
          "name": "stdout"
        }
      ]
    },
    {
      "cell_type": "code",
      "metadata": {
        "id": "iEkARCFCUV8z"
      },
      "source": [
        "import torch\n",
        "import torch.nn as nn\n",
        "import torch.optim as optim\n",
        "\n",
        "import torchtext\n",
        "from torchtext import data\n",
        "import spacy\n",
        "import numpy as np\n",
        "import pandas as pd\n",
        "import matplotlib.pyplot as plt\n",
        "\n",
        "import argparse\n",
        "import os\n",
        "import datetime, time"
      ],
      "execution_count": 9,
      "outputs": []
    },
    {
      "cell_type": "code",
      "metadata": {
        "id": "fkvzWrU_7vbr"
      },
      "source": [
        "from torch.nn.utils.rnn import pack_padded_sequence, pad_packed_sequence\n",
        "import torch\n",
        "import torch.nn as nn\n",
        "import torch.nn.functional as F\n",
        "\n",
        "class CNN_LSTM(nn.Module):\n",
        "    def __init__(self, embedding_dim, vocab, hidden_dim=100):\n",
        "        super(CNN_LSTM, self).__init__()\n",
        "        self.embedding = nn.Embedding.from_pretrained(vocab.vectors)\n",
        "        self.hidden_dim = hidden_dim\n",
        "\n",
        "        self.conv1 = nn.Conv2d(1, 100,kernel_size=(2,embedding_dim)) #in_channels, out_chanels, kernel_size\n",
        "        \n",
        "        \n",
        "        self.lstm1 = nn.LSTM(embedding_dim,hidden_dim)\n",
        "        target_size = 6\n",
        "        self.fc1 = nn.Linear(hidden_dim, target_size)\n",
        "\n",
        "    def forward(self, x, lengths):\n",
        "    #   embeds = self.word_embeddings(sentence)\n",
        "    #     lstm_out, _ = self.lstm(embeds.view(len(sentence), 1, -1))\n",
        "    #     tag_space = self.hidden2tag(lstm_out.view(len(sentence), -1))\n",
        "    #     tag_scores = F.log_softmax(tag_space, dim=1)\n",
        "    #     return tag_scores\n",
        "        \n",
        "        x = self.embedding(x)\n",
        "        # print('x.shape',x.shape)\n",
        "\n",
        "        x = x.unsqueeze(0)\n",
        "        # print('x = x.unsqueeze(0)',x.shape)\n",
        "        x = x.transpose(1,2) # swaps 2nd and 3rd dimension\n",
        "        # print('x = x.transpose(1,2)',x.shape)\n",
        "        x = x.transpose(0,1) # swaps 1st and 2nd dimension, now it has the correct input (n_samples,channels, height, width)\n",
        "        # print('x = x.transpose(0,1)',x.shape)\n",
        "        x1 = F.relu(self.conv1(x)) \n",
        "        # print('x1 = F.relu(self.conv1(x))',x1.shape)\n",
        "        \n",
        "        x1 = x1.squeeze(3)\n",
        "        # print('x1 = x1.squeeze(3)',x1.shape)\n",
        "        pool1 = nn.MaxPool1d(x1.size(2), 1) #maxpool\n",
        "        \n",
        "        x = pool1(x1)\n",
        "        # print('pool1 = nn.MaxPool1d(x1.size(2), 1)',x.shape)\n",
        "        x = x.squeeze(2)\n",
        "        x = x.unsqueeze(0)\n",
        "        # print('x = x.squeeze(2)',x.shape)\n",
        "\n",
        "\n",
        "        #  pack the word embeddings in the batch together and \n",
        "        # run the RNN on this object\n",
        "        # x = pack_padded_sequence(x,lengths) \n",
        "        # print('x.shape',x.shape)\n",
        "        x,(h,c) = self.lstm1(x)\n",
        "        # print('x.shape',x.shape)\n",
        "        # print('h.shape',h.shape)\n",
        "        # print('len(h)',len(h))\n",
        "        # print('(x.view(len(lengths),-1)).shape',(x.view(len(lengths),-1)).shape)\n",
        "        h_result = self.fc1(h.squeeze(0))\n",
        "        # print('no sigmoid',h_result)\n",
        "        # h_result = F.log_softmax(tag_space, dim=1) --> change to this with multiple cat\n",
        "        h_result = torch.sigmoid(h_result)\n",
        "        # print('sigmoid',h_result)\n",
        "        \n",
        "\n",
        "        return h_result"
      ],
      "execution_count": 10,
      "outputs": []
    },
    {
      "cell_type": "markdown",
      "metadata": {
        "id": "Pp3npAlt5YNO"
      },
      "source": [
        "## model"
      ]
    },
    {
      "cell_type": "code",
      "metadata": {
        "id": "0wxRkQ2s5Urz"
      },
      "source": [
        "from torch.nn.utils.rnn import pack_padded_sequence, pad_packed_sequence\n",
        "import torch\n",
        "import torch.nn as nn\n",
        "import torch.nn.functional as F\n",
        "\n",
        "class CNN_LSTM_2_conv(nn.Module):\n",
        "    def __init__(self, embedding_dim, vocab, hidden_dim=100):\n",
        "        super(CNN_LSTM_2_conv, self).__init__()\n",
        "        self.embedding = nn.Embedding.from_pretrained(vocab.vectors)\n",
        "        self.hidden_dim = hidden_dim\n",
        "\n",
        "        self.conv1 = nn.Conv2d(1, 50,kernel_size=(2,embedding_dim)) #in_channels, out_chanels, kernel_size\n",
        "        self.conv2 = nn.Conv2d(1, 50,kernel_size=(2,embedding_dim)) #in_channels, out_chanels, kernel_size\n",
        "        \n",
        "        \n",
        "        self.lstm1 = nn.LSTM(embedding_dim,hidden_dim)\n",
        "        target_size = 6\n",
        "        self.fc1 = nn.Linear(hidden_dim, target_size)\n",
        "\n",
        "    def forward(self, x, lengths):\n",
        "    #   embeds = self.word_embeddings(sentence)\n",
        "    #     lstm_out, _ = self.lstm(embeds.view(len(sentence), 1, -1))\n",
        "    #     tag_space = self.hidden2tag(lstm_out.view(len(sentence), -1))\n",
        "    #     tag_scores = F.log_softmax(tag_space, dim=1)\n",
        "    #     return tag_scores\n",
        "        \n",
        "        x = self.embedding(x)\n",
        "        # print('x.shape',x.shape)\n",
        "\n",
        "        x = x.unsqueeze(0)\n",
        "        # print('x = x.unsqueeze(0)',x.shape)\n",
        "        x = x.transpose(1,2) # swaps 2nd and 3rd dimension\n",
        "        # print('x = x.transpose(1,2)',x.shape)\n",
        "        x = x.transpose(0,1) # swaps 1st and 2nd dimension, now it has the correct input (n_samples,channels, height, width)\n",
        "        # print('x = x.transpose(0,1)',x.shape)\n",
        "        x1 = F.relu(self.conv1(x))\n",
        "        x2 = F.relu(self.conv2(x)) \n",
        "        # print('x1 = F.relu(self.conv1(x))',x1.shape)\n",
        "        \n",
        "        x1 = x1.squeeze(3)\n",
        "        x2 = x2.squeeze(3)\n",
        "        # print('x1 = x1.squeeze(3) hahaha',x1.shape)\n",
        "        pool1 = nn.MaxPool1d(x1.size(2), 1)\n",
        "        pool2 = nn.MaxPool1d(x2.size(2), 1) #maxpool\n",
        "        \n",
        "        x1 = pool1(x1)\n",
        "        x2 = pool2(x2)\n",
        "        # print('x1 = x1.squeeze(3) here',x1.shape)\n",
        "\n",
        "        x = torch.cat((x1,x2),1)\n",
        "        # print('pool1 = nn.MaxPool1d(x1.size(2), 1)',x.shape)\n",
        "        # x = concat.view(-1,100)\n",
        "        # print('x = x.',x.shape)\n",
        "        \n",
        "        x = x.transpose(1,2)\n",
        "        # print('x === x.squeeze(1)',x.shape)\n",
        "        x = x.transpose(0,1)\n",
        "        # print('x === x.squeeze(0)',x.shape)\n",
        "\n",
        "\n",
        "        #  pack the word embeddings in the batch together and \n",
        "        # run the RNN on this object\n",
        "        # x = pack_padded_sequence(x,lengths) \n",
        "        # print('x.shape',x.shape)\n",
        "        x,(h,c) = self.lstm1(x)\n",
        "        # print('x.shape',x.shape)\n",
        "        # print('h.shape',h.shape)\n",
        "        # print('len(h)',len(h))\n",
        "        # print('(x.view(len(lengths),-1)).shape',(x.view(len(lengths),-1)).shape)\n",
        "        # print('h.shape',h.shape)\n",
        "        # print('h.squeeze(0)',h.squeeze(0).shape)\n",
        "        h_result = self.fc1(h.squeeze(0))\n",
        "        # h_result = F.log_softmax(tag_space, dim=1) --> change to this with multiple cat\n",
        "        # print('h_result.shape 1',h_result.shape)\n",
        "\n",
        "        h_result = torch.sigmoid(h_result)\n",
        "        # print('h_result.shape 2',h_result.shape)\n",
        "        \n",
        "\n",
        "        return h_result.squeeze(1)"
      ],
      "execution_count": 11,
      "outputs": []
    },
    {
      "cell_type": "markdown",
      "metadata": {
        "id": "PdqGb-075On2"
      },
      "source": [
        "## Training func"
      ]
    },
    {
      "cell_type": "code",
      "metadata": {
        "id": "3jJdM4Axma5I"
      },
      "source": [
        "def trainRNN_R(seed = 0, batch_size = 64, learning_rate = 0.001, epochs = 5, model = CNN_LSTM, emb_dim = 100, rnn_hidden_dim = 100, num_filt = 50):\n",
        "\n",
        "\n",
        "  torch.manual_seed(seed)\n",
        "\n",
        "  COMMENT_TEXT    = data.Field(sequential=True,lower=True, tokenize='spacy', include_lengths=True)\n",
        "  TOXIC           = data.Field(sequential=False, use_vocab=False)\n",
        "  SEVERE_TOXIC    = data.Field(sequential=False, use_vocab=False)\n",
        "  OBSCENE         = data.Field(sequential=False, use_vocab=False)\n",
        "  THREAT          = data.Field(sequential=False, use_vocab=False)\n",
        "  INSULT          = data.Field(sequential=False, use_vocab=False)\n",
        "  IDENTITY_HATE   = data.Field(sequential=False, use_vocab=False)\n",
        "\n",
        "  train_data, val_data, test_data = data.TabularDataset.splits(\n",
        "          path='/content/drive/MyDrive/ece367/ECE324 project/dataProcessing/processed_data_aug_v2/', train='train.csv',\n",
        "          validation='valid.csv', test='test.csv', format='csv',\n",
        "          skip_header=True, fields=[('id', None), ('text', COMMENT_TEXT), ('toxic', TOXIC), ('severe_toxic', SEVERE_TOXIC), ('obscene', OBSCENE), ('threat', THREAT), ('insult', INSULT), ('identity_hate', IDENTITY_HATE)])\n",
        "\n",
        "          # path='/content/drive/MyDrive/ece367/ECE324 project/dataProcessing/multi_loose_large_data/', train='train.csv',\n",
        "          # validation='valid.csv', test='test.csv', format='csv',\n",
        "          # skip_header=True, fields=[('id', None), ('text', COMMENT_TEXT), ('toxic', TOXIC), ('severe_toxic', SEVERE_TOXIC), ('obscene', OBSCENE), ('threat', THREAT), ('insult', INSULT), ('identity_hate', IDENTITY_HATE)])\n",
        "\n",
        "  train_iter, val_iter, test_iter = data.BucketIterator.splits(\n",
        "        (train_data, val_data, test_data), batch_sizes=(batch_size, batch_size, batch_size),sort_key=lambda x: len(x.text), device=None, sort_within_batch=True, repeat=False)\n",
        "\n",
        "  COMMENT_TEXT.build_vocab(train_data, val_data, test_data)\n",
        "\n",
        "  COMMENT_TEXT.vocab.load_vectors(torchtext.vocab.GloVe(name='6B', dim=100))\n",
        "  vocab = COMMENT_TEXT.vocab\n",
        "\n",
        "  print(\"Shape of Vocab:\",COMMENT_TEXT.vocab.vectors.shape)   \n",
        "\n",
        "\n",
        "  model = model(emb_dim, vocab)\n",
        "  # model = model(vocab)\n",
        "\n",
        "  criterion = nn.BCEWithLogitsLoss()\n",
        "  optimizer = optim.Adam(model.parameters(), lr=learning_rate)\n",
        "  lossCount = []\n",
        "  valLossCount = []\n",
        "  accCount = []\n",
        "  valAccCount = []\n",
        "  testLossCount = []\n",
        "  testAccCount = []\n",
        "  epochCount = []\n",
        "  \n",
        "  for epoch in range(epochs):  # loop over the dataset multiple times\n",
        "      correct = 0\n",
        "      total = 0\n",
        "      runningLoss = 0.0\n",
        "      numberOfBatches = 0\n",
        "      valCorrect = 0\n",
        "      valRunningLoss = 0.0\n",
        "      valNumberOfBatches = 0\n",
        "      valTotal = 0\n",
        "\n",
        "      testCorrect = 0\n",
        "      testRunningLoss = 0.0\n",
        "      testNumberOfBatches = 0\n",
        "      testTotal = 0\n",
        "\n",
        "      for i, batch in enumerate(train_iter, 0):\n",
        "          # get the set of text sentences in the batch and length of the sentence sequences\n",
        "          batch_input, batch_input_length = batch.text\n",
        "          labels = []\n",
        "          for i in range(len(batch.toxic)):\n",
        "             labels += [[float(batch.toxic[i]), float(batch.severe_toxic[i]), float(batch.obscene[i]), float(batch.threat[i]),float(batch.insult[i]), float(batch.identity_hate[i])]]\n",
        "          # print('(labels)',labels)\n",
        "          labels=torch.FloatTensor(labels)\n",
        "          # print('labels tensor size',labels.shape)\n",
        "          # print('text tensor size',batch_input.shape)\n",
        "          # labels = batch.toxic.float()    \n",
        "          # print(labels)\n",
        "      \n",
        "          # zero the parameter gradients\n",
        "          optimizer.zero_grad()\n",
        "\n",
        "          # forward + backward + optimize\n",
        "          outputs = model(batch_input, batch_input_length)\n",
        "          loss = criterion(outputs, labels)\n",
        "          # print('loss',loss)\n",
        "          loss.backward()\n",
        "          optimizer.step()   \n",
        "          # print('labels',labels)      \n",
        "          # print('outputs',outputs) \n",
        "\n",
        "          temp = ((outputs > 0.5).squeeze().long() == labels)\n",
        "          # print('temp',temp)\n",
        "          \n",
        "          # correct = 0\n",
        "          for i in temp:\n",
        "            # if torch.equal(i, torch.BoolTensor([True, True, True, True, True, True])):\n",
        "              # correct += 1\n",
        "              # print('correct temp',i)\n",
        "            correct += torch.count_nonzero(i)/len(i)\n",
        "\n",
        "          # # evaluate training accuracy\n",
        "          # with torch.no_grad():\n",
        "          #   outputs = (outputs>0.5).float()\n",
        "          #   correct += (outputs == labels).sum().item()\n",
        "          \n",
        "          # add training loss\n",
        "          runningLoss += loss.item()\n",
        "\n",
        "          # count the number of batches and samples\n",
        "          numberOfBatches += 1\n",
        "          total += labels.size(0)\n",
        "          # print('total',total)\n",
        "\n",
        "\n",
        "\n",
        "      # evaluate validation loss and \n",
        "      with torch.no_grad():\n",
        "        for batch in val_iter:\n",
        "          batch_input, batch_input_length = batch.text\n",
        "          \n",
        "          # labels = batch.toxic.float()   \n",
        "          labels = []\n",
        "          for i in range(len(batch.toxic)):\n",
        "             labels += [[float(batch.toxic[i]), float(batch.severe_toxic[i]), float(batch.obscene[i]), float(batch.threat[i]),float(batch.insult[i]), float(batch.identity_hate[i])]]\n",
        "          # print('(labels)',labels)\n",
        "          labels=torch.FloatTensor(labels)\n",
        "\n",
        "          outputs = model(batch_input, batch_input_length)\n",
        "          loss = criterion(outputs, labels)\n",
        "          valRunningLoss += loss.item()\n",
        "\n",
        "          temp = ((outputs > 0.5).squeeze().long() == torch.FloatTensor(labels))\n",
        "          # valCorrect = 0\n",
        "          for i in temp:\n",
        "            # if torch.equal(i, torch.BoolTensor([True, True, True, True, True, True])):\n",
        "            #   valCorrect += 1\n",
        "            valCorrect += torch.count_nonzero(i)/len(i)\n",
        "\n",
        "          # outputs = (outputs>0.5).float()\n",
        "          # valCorrect += (outputs == labels).sum().item()\n",
        "          valTotal += labels.size(0)\n",
        "          valNumberOfBatches += 1\n",
        "\n",
        "\n",
        "      runningLoss = runningLoss/numberOfBatches\n",
        "      print('correct',correct)\n",
        "      correct = correct/total\n",
        "      print('accuracy',correct)\n",
        "      valRunningLoss = valRunningLoss/valNumberOfBatches\n",
        "      valCorrect = valCorrect/valTotal\n",
        "      # print statistics for every epoch)\n",
        "      \n",
        "      lossCount += [runningLoss]\n",
        "      accCount += [correct]\n",
        "      epochCount += [epoch+1]\n",
        "      valLossCount += [valRunningLoss]\n",
        "      valAccCount += [valCorrect]\n",
        "\n",
        "      \n",
        "      with torch.no_grad():\n",
        "        for batch in test_iter:\n",
        "          batch_input, batch_input_length = batch.text\n",
        "\n",
        "          # labels = batch.toxic.float()   \n",
        "          labels = []\n",
        "          for i in range(len(batch.toxic)):\n",
        "             labels += [[float(batch.toxic[i]), float(batch.severe_toxic[i]), float(batch.obscene[i]), float(batch.threat[i]),float(batch.insult[i]), float(batch.identity_hate[i])]]\n",
        "          # print('(labels)',labels)\n",
        "          labels=torch.FloatTensor(labels)\n",
        "\n",
        "          outputs = model(batch_input, batch_input_length)\n",
        "          loss = criterion(outputs, labels)\n",
        "          testRunningLoss += loss.item()\n",
        "\n",
        "          temp = ((outputs > 0.5).squeeze().long() == torch.FloatTensor(labels))\n",
        "          # testCorrect = 0\n",
        "          for i in temp:\n",
        "            # if torch.equal(i, torch.BoolTensor([True, True, True, True, True, True])):\n",
        "            #   testCorrect += 1\n",
        "            testCorrect += torch.count_nonzero(i)/len(i)\n",
        "\n",
        "\n",
        "          # outputs = (outputs>0.5).float()\n",
        "          # testCorrect += (outputs == labels).sum().item()\n",
        "          testTotal += labels.size(0)\n",
        "          testNumberOfBatches += 1\n",
        "      testRunningLoss = testRunningLoss/testNumberOfBatches\n",
        "      testLossCount += [testRunningLoss]\n",
        "      testAccCount += [testCorrect/testTotal]\n",
        "\n",
        "      print('[%d] train loss: %.3f, train acc: %.3f, validation loss: %.3f, validation acc: %.3f , test accuracy is %.3f and loss is %.3f' %\n",
        "                    (epoch + 1, runningLoss, correct, valRunningLoss, valCorrect,testCorrect/testTotal, testRunningLoss))\n",
        "      \n",
        "  \n",
        "  #plot\n",
        "  plt.title(\"Loss Curve\")\n",
        "  plt.plot(epochCount, lossCount, label=\"Training\")\n",
        "  plt.plot(epochCount, valLossCount, label=\"Validation\")\n",
        "  plt.plot(epochCount, testLossCount, label=\"Testing\")\n",
        "  plt.xlabel(\"Number of Epochs\")\n",
        "  plt.ylabel(\"Loss\")\n",
        "  plt.legend(loc='best')\n",
        "  plt.show()\n",
        "\n",
        "\n",
        "  plt.title(\"Accuracy Curve\")\n",
        "  plt.plot(epochCount, accCount, label = \"Training\")\n",
        "  plt.plot(epochCount, valAccCount, label = \"Validation\")\n",
        "  plt.plot(epochCount, testAccCount, label=\"Testing\")\n",
        "  plt.xlabel(\"Number of Epochs\")\n",
        "  plt.ylabel(\"Accuracy\")\n",
        "  plt.legend(loc='best')\n",
        "  plt.show()\n",
        "  torch.save(model,'model_rnn.pt')"
      ],
      "execution_count": 12,
      "outputs": []
    },
    {
      "cell_type": "markdown",
      "metadata": {
        "id": "yG5QKUe640qE"
      },
      "source": [
        "## train\n"
      ]
    },
    {
      "cell_type": "code",
      "metadata": {
        "colab": {
          "base_uri": "https://localhost:8080/",
          "height": 1000
        },
        "id": "Ix1PMK_mmd9o",
        "outputId": "4a2fb7d9-6283-412a-f0ea-4efa10cda742"
      },
      "source": [
        "trainRNN_R(seed = 0, batch_size = 64, learning_rate = 0.01, epochs = 30, model = CNN_LSTM_2_conv, emb_dim = 100, rnn_hidden_dim = 100, num_filt = 50)"
      ],
      "execution_count": 13,
      "outputs": [
        {
          "output_type": "stream",
          "text": [
            ".vector_cache/glove.6B.zip: 862MB [06:30, 2.21MB/s]                           \n",
            "100%|█████████▉| 398408/400000 [00:20<00:00, 21616.03it/s]"
          ],
          "name": "stderr"
        },
        {
          "output_type": "stream",
          "text": [
            "Shape of Vocab: torch.Size([45459, 100])\n"
          ],
          "name": "stdout"
        },
        {
          "output_type": "stream",
          "text": [
            "\r100%|█████████▉| 398408/400000 [00:40<00:00, 21616.03it/s]"
          ],
          "name": "stderr"
        },
        {
          "output_type": "stream",
          "text": [
            "correct tensor(19854.1172)\n",
            "accuracy tensor(0.7659)\n",
            "[1] train loss: 0.633, train acc: 0.766, validation loss: 0.619, validation acc: 0.801 , test accuracy is 0.799 and loss is 0.622\n",
            "correct tensor(20737.7344)\n",
            "accuracy tensor(0.7999)\n",
            "[2] train loss: 0.619, train acc: 0.800, validation loss: 0.619, validation acc: 0.794 , test accuracy is 0.795 and loss is 0.621\n",
            "correct tensor(20757.2578)\n",
            "accuracy tensor(0.8007)\n",
            "[3] train loss: 0.617, train acc: 0.801, validation loss: 0.621, validation acc: 0.803 , test accuracy is 0.801 and loss is 0.624\n",
            "correct tensor(20797.0645)\n",
            "accuracy tensor(0.8022)\n",
            "[4] train loss: 0.616, train acc: 0.802, validation loss: 0.617, validation acc: 0.797 , test accuracy is 0.795 and loss is 0.620\n",
            "correct tensor(20832.7812)\n",
            "accuracy tensor(0.8036)\n",
            "[5] train loss: 0.615, train acc: 0.804, validation loss: 0.617, validation acc: 0.794 , test accuracy is 0.793 and loss is 0.620\n",
            "correct tensor(20890.6074)\n",
            "accuracy tensor(0.8058)\n",
            "[6] train loss: 0.615, train acc: 0.806, validation loss: 0.617, validation acc: 0.797 , test accuracy is 0.798 and loss is 0.619\n",
            "correct tensor(20912.6250)\n",
            "accuracy tensor(0.8067)\n",
            "[7] train loss: 0.615, train acc: 0.807, validation loss: 0.616, validation acc: 0.801 , test accuracy is 0.802 and loss is 0.618\n",
            "correct tensor(20961.5469)\n",
            "accuracy tensor(0.8086)\n",
            "[8] train loss: 0.614, train acc: 0.809, validation loss: 0.616, validation acc: 0.805 , test accuracy is 0.804 and loss is 0.619\n",
            "correct tensor(20970.6582)\n",
            "accuracy tensor(0.8089)\n",
            "[9] train loss: 0.614, train acc: 0.809, validation loss: 0.617, validation acc: 0.806 , test accuracy is 0.805 and loss is 0.619\n",
            "correct tensor(20984.5078)\n",
            "accuracy tensor(0.8095)\n",
            "[10] train loss: 0.614, train acc: 0.809, validation loss: 0.617, validation acc: 0.804 , test accuracy is 0.805 and loss is 0.619\n",
            "correct tensor(20984.9473)\n",
            "accuracy tensor(0.8095)\n",
            "[11] train loss: 0.613, train acc: 0.809, validation loss: 0.616, validation acc: 0.800 , test accuracy is 0.800 and loss is 0.618\n",
            "correct tensor(21014.7832)\n",
            "accuracy tensor(0.8106)\n",
            "[12] train loss: 0.613, train acc: 0.811, validation loss: 0.616, validation acc: 0.803 , test accuracy is 0.804 and loss is 0.618\n",
            "correct tensor(21002.8926)\n",
            "accuracy tensor(0.8102)\n",
            "[13] train loss: 0.613, train acc: 0.810, validation loss: 0.619, validation acc: 0.805 , test accuracy is 0.803 and loss is 0.623\n",
            "correct tensor(21018.9395)\n",
            "accuracy tensor(0.8108)\n",
            "[14] train loss: 0.613, train acc: 0.811, validation loss: 0.616, validation acc: 0.799 , test accuracy is 0.801 and loss is 0.617\n",
            "correct tensor(21012.9512)\n",
            "accuracy tensor(0.8106)\n",
            "[15] train loss: 0.613, train acc: 0.811, validation loss: 0.617, validation acc: 0.803 , test accuracy is 0.803 and loss is 0.619\n",
            "correct tensor(21040.8828)\n",
            "accuracy tensor(0.8116)\n",
            "[16] train loss: 0.613, train acc: 0.812, validation loss: 0.617, validation acc: 0.794 , test accuracy is 0.797 and loss is 0.619\n",
            "correct tensor(21003.6074)\n",
            "accuracy tensor(0.8102)\n",
            "[17] train loss: 0.613, train acc: 0.810, validation loss: 0.616, validation acc: 0.806 , test accuracy is 0.806 and loss is 0.618\n",
            "correct tensor(21064.9316)\n",
            "accuracy tensor(0.8126)\n",
            "[18] train loss: 0.612, train acc: 0.813, validation loss: 0.615, validation acc: 0.804 , test accuracy is 0.806 and loss is 0.618\n",
            "correct tensor(21069.9746)\n",
            "accuracy tensor(0.8128)\n",
            "[19] train loss: 0.612, train acc: 0.813, validation loss: 0.616, validation acc: 0.801 , test accuracy is 0.802 and loss is 0.618\n",
            "correct tensor(21045.6660)\n",
            "accuracy tensor(0.8118)\n",
            "[20] train loss: 0.612, train acc: 0.812, validation loss: 0.616, validation acc: 0.800 , test accuracy is 0.801 and loss is 0.618\n",
            "correct tensor(21066.0801)\n",
            "accuracy tensor(0.8126)\n",
            "[21] train loss: 0.612, train acc: 0.813, validation loss: 0.616, validation acc: 0.806 , test accuracy is 0.807 and loss is 0.618\n",
            "correct tensor(21058.9043)\n",
            "accuracy tensor(0.8123)\n",
            "[22] train loss: 0.612, train acc: 0.812, validation loss: 0.618, validation acc: 0.794 , test accuracy is 0.796 and loss is 0.620\n",
            "correct tensor(21005.9102)\n",
            "accuracy tensor(0.8103)\n",
            "[23] train loss: 0.613, train acc: 0.810, validation loss: 0.615, validation acc: 0.805 , test accuracy is 0.805 and loss is 0.618\n",
            "correct tensor(21064.9766)\n",
            "accuracy tensor(0.8126)\n",
            "[24] train loss: 0.612, train acc: 0.813, validation loss: 0.616, validation acc: 0.806 , test accuracy is 0.806 and loss is 0.618\n",
            "correct tensor(21068.8789)\n",
            "accuracy tensor(0.8127)\n",
            "[25] train loss: 0.612, train acc: 0.813, validation loss: 0.615, validation acc: 0.807 , test accuracy is 0.806 and loss is 0.618\n",
            "correct tensor(21069.9336)\n",
            "accuracy tensor(0.8128)\n",
            "[26] train loss: 0.612, train acc: 0.813, validation loss: 0.616, validation acc: 0.802 , test accuracy is 0.803 and loss is 0.618\n",
            "correct tensor(21033.0312)\n",
            "accuracy tensor(0.8113)\n",
            "[27] train loss: 0.612, train acc: 0.811, validation loss: 0.615, validation acc: 0.805 , test accuracy is 0.805 and loss is 0.618\n",
            "correct tensor(21005.7188)\n",
            "accuracy tensor(0.8103)\n",
            "[28] train loss: 0.613, train acc: 0.810, validation loss: 0.616, validation acc: 0.800 , test accuracy is 0.800 and loss is 0.618\n",
            "correct tensor(21062.3164)\n",
            "accuracy tensor(0.8125)\n",
            "[29] train loss: 0.612, train acc: 0.812, validation loss: 0.616, validation acc: 0.804 , test accuracy is 0.804 and loss is 0.618\n",
            "correct tensor(21058.9746)\n",
            "accuracy tensor(0.8123)\n",
            "[30] train loss: 0.612, train acc: 0.812, validation loss: 0.615, validation acc: 0.807 , test accuracy is 0.806 and loss is 0.618\n"
          ],
          "name": "stdout"
        },
        {
          "output_type": "display_data",
          "data": {
            "image/png": "[encoded data removed]",
            "text/plain": [
              "<Figure size 432x288 with 1 Axes>"
            ]
          },
          "metadata": {
            "tags": [],
            "needs_background": "light"
          }
        },
        {
          "output_type": "display_data",
          "data": {
            "image/png": "[encoded data removed]",
            "text/plain": [
              "<Figure size 432x288 with 1 Axes>"
            ]
          },
          "metadata": {
            "tags": [],
            "needs_background": "light"
          }
        }
      ]
    },
    {
      "cell_type": "code",
      "metadata": {
        "colab": {
          "base_uri": "https://localhost:8080/"
        },
        "id": "jrY1ryEuNh_O",
        "outputId": "4621a19d-885e-452b-c44e-ea2cfc3920e9"
      },
      "source": [
        "def get_vocab(seed = 0, batch_size = 64, learning_rate = 0.001, epochs = 5, model = CNN_LSTM, emb_dim = 100, rnn_hidden_dim = 100, num_filt = 50):\n",
        "\n",
        "\n",
        "  torch.manual_seed(seed)\n",
        "\n",
        "  COMMENT_TEXT    = data.Field(sequential=True,lower=True, tokenize='spacy', include_lengths=True)\n",
        "  TOXIC           = data.Field(sequential=False, use_vocab=False)\n",
        "  SEVERE_TOXIC    = data.Field(sequential=False, use_vocab=False)\n",
        "  OBSCENE         = data.Field(sequential=False, use_vocab=False)\n",
        "  THREAT          = data.Field(sequential=False, use_vocab=False)\n",
        "  INSULT          = data.Field(sequential=False, use_vocab=False)\n",
        "  IDENTITY_HATE   = data.Field(sequential=False, use_vocab=False)\n",
        "\n",
        "  train_data, val_data, test_data = data.TabularDataset.splits(\n",
        "          path='/content/drive/MyDrive/ece367/ECE324 project/dataProcessing/processed_data_aug_v2/', train='train.csv',\n",
        "          validation='valid.csv', test='test.csv', format='csv',\n",
        "          skip_header=True, fields=[('id', None), ('text', COMMENT_TEXT), ('toxic', TOXIC), ('severe_toxic', SEVERE_TOXIC), ('obscene', OBSCENE), ('threat', THREAT), ('insult', INSULT), ('identity_hate', IDENTITY_HATE)])\n",
        "\n",
        "          # path='/content/drive/MyDrive/ece367/ECE324 project/dataProcessing/multi_loose_large_data/', train='train.csv',\n",
        "          # validation='valid.csv', test='test.csv', format='csv',\n",
        "          # skip_header=True, fields=[('id', None), ('text', COMMENT_TEXT), ('toxic', TOXIC), ('severe_toxic', SEVERE_TOXIC), ('obscene', OBSCENE), ('threat', THREAT), ('insult', INSULT), ('identity_hate', IDENTITY_HATE)])\n",
        "\n",
        "  train_iter, val_iter, test_iter = data.BucketIterator.splits(\n",
        "        (train_data, val_data, test_data), batch_sizes=(batch_size, batch_size, batch_size),sort_key=lambda x: len(x.text), device=None, sort_within_batch=True, repeat=False)\n",
        "\n",
        "  COMMENT_TEXT.build_vocab(train_data, val_data, test_data)\n",
        "\n",
        "  COMMENT_TEXT.vocab.load_vectors(torchtext.vocab.GloVe(name='6B', dim=100))\n",
        "  vocab = COMMENT_TEXT.vocab\n",
        "\n",
        "  print(\"Shape of Vocab:\",COMMENT_TEXT.vocab.vectors.shape)   \n",
        "  def save_vocab(vocab):\n",
        "    import pickle\n",
        "    output = open('together_vocab.pkl', 'wb')\n",
        "    pickle.dump(vocab, output)\n",
        "    output.close()\n",
        "  save_vocab(vocab)\n",
        "\n",
        "get_vocab(seed = 0, batch_size = 64, learning_rate = 0.01, epochs = 30, model = CNN_LSTM_2_conv, emb_dim = 100, rnn_hidden_dim = 100, num_filt = 50)"
      ],
      "execution_count": 14,
      "outputs": [
        {
          "output_type": "stream",
          "text": [
            "Shape of Vocab: torch.Size([45459, 100])\n"
          ],
          "name": "stdout"
        }
      ]
    },
    {
      "cell_type": "code",
      "metadata": {
        "id": "YsLLFVRTNGAG"
      },
      "source": [
        "import pickle\n",
        "import math\n",
        "\n",
        "def tokenizer(string):\n",
        "    nlp = spacy.load('en')\n",
        "    return nlp(string)\n",
        "\n",
        "def sigmoid(x):\n",
        "  return 1 / (1 + math.exp(-x))\n",
        "\n",
        "def subjective_bot(model_path, vocab_path):\n",
        "  model_baseline = torch.load(model_path)\n",
        "\n",
        "  with open(vocab_path, 'rb') as f:\n",
        "    vocab = pickle.load(f)\n",
        "\n",
        "  while True:\n",
        "\n",
        "      print(\"Enter a sentence\")\n",
        "      sentence = input()\n",
        "\n",
        "      sentencelist = tokenizer(sentence)\n",
        "      temp = []\n",
        "      for i in range(len(sentencelist)):\n",
        "          temp.append(vocab.stoi[str(sentencelist[i])])\n",
        "      sentence_tensor = torch.LongTensor([temp]).permute(1, 0)\n",
        "      sentence_length = torch.LongTensor([len(temp)])\n",
        "\n",
        "      baseline = model_baseline(sentence_tensor, sentence_length)\n",
        "      print(baseline)"
      ],
      "execution_count": 15,
      "outputs": []
    },
    {
      "cell_type": "code",
      "metadata": {
        "colab": {
          "base_uri": "https://localhost:8080/"
        },
        "id": "pC35katuNMXI",
        "outputId": "bc359a5e-9350-430f-8661-39c8d8c75bba"
      },
      "source": [
        "subjective_bot('/content/model_rnn.pt','/content/together_vocab.pkl')"
      ],
      "execution_count": null,
      "outputs": [
        {
          "output_type": "stream",
          "text": [
            "Enter a sentence\n"
          ],
          "name": "stdout"
        }
      ]
    }
  ]
}