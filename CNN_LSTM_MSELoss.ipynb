{
  "nbformat": 4,
  "nbformat_minor": 0,
  "metadata": {
    "colab": {
      "name": "CNN_LSTM_MSELoss",
      "provenance": []
    },
    "kernelspec": {
      "name": "python3",
      "display_name": "Python 3"
    }
  },
  "cells": [
    {
      "cell_type": "code",
      "metadata": {
        "colab": {
          "base_uri": "https://localhost:8080/"
        },
        "id": "IURKKDGHKf9v",
        "outputId": "cefc69a8-11f1-451d-ef63-da13fde3eeea"
      },
      "source": [
        "!python -m spacy download en"
      ],
      "execution_count": 1,
      "outputs": [
        {
          "output_type": "stream",
          "text": [
            "Requirement already satisfied: en_core_web_sm==2.2.5 from https://github.com/explosion/spacy-models/releases/download/en_core_web_sm-2.2.5/en_core_web_sm-2.2.5.tar.gz#egg=en_core_web_sm==2.2.5 in /usr/local/lib/python3.6/dist-packages (2.2.5)\n",
            "Requirement already satisfied: spacy>=2.2.2 in /usr/local/lib/python3.6/dist-packages (from en_core_web_sm==2.2.5) (2.2.4)\n",
            "Requirement already satisfied: wasabi<1.1.0,>=0.4.0 in /usr/local/lib/python3.6/dist-packages (from spacy>=2.2.2->en_core_web_sm==2.2.5) (0.8.0)\n",
            "Requirement already satisfied: tqdm<5.0.0,>=4.38.0 in /usr/local/lib/python3.6/dist-packages (from spacy>=2.2.2->en_core_web_sm==2.2.5) (4.41.1)\n",
            "Requirement already satisfied: murmurhash<1.1.0,>=0.28.0 in /usr/local/lib/python3.6/dist-packages (from spacy>=2.2.2->en_core_web_sm==2.2.5) (1.0.3)\n",
            "Requirement already satisfied: srsly<1.1.0,>=1.0.2 in /usr/local/lib/python3.6/dist-packages (from spacy>=2.2.2->en_core_web_sm==2.2.5) (1.0.2)\n",
            "Requirement already satisfied: plac<1.2.0,>=0.9.6 in /usr/local/lib/python3.6/dist-packages (from spacy>=2.2.2->en_core_web_sm==2.2.5) (1.1.3)\n",
            "Requirement already satisfied: requests<3.0.0,>=2.13.0 in /usr/local/lib/python3.6/dist-packages (from spacy>=2.2.2->en_core_web_sm==2.2.5) (2.23.0)\n",
            "Requirement already satisfied: blis<0.5.0,>=0.4.0 in /usr/local/lib/python3.6/dist-packages (from spacy>=2.2.2->en_core_web_sm==2.2.5) (0.4.1)\n",
            "Requirement already satisfied: cymem<2.1.0,>=2.0.2 in /usr/local/lib/python3.6/dist-packages (from spacy>=2.2.2->en_core_web_sm==2.2.5) (2.0.4)\n",
            "Requirement already satisfied: setuptools in /usr/local/lib/python3.6/dist-packages (from spacy>=2.2.2->en_core_web_sm==2.2.5) (50.3.2)\n",
            "Requirement already satisfied: numpy>=1.15.0 in /usr/local/lib/python3.6/dist-packages (from spacy>=2.2.2->en_core_web_sm==2.2.5) (1.18.5)\n",
            "Requirement already satisfied: thinc==7.4.0 in /usr/local/lib/python3.6/dist-packages (from spacy>=2.2.2->en_core_web_sm==2.2.5) (7.4.0)\n",
            "Requirement already satisfied: preshed<3.1.0,>=3.0.2 in /usr/local/lib/python3.6/dist-packages (from spacy>=2.2.2->en_core_web_sm==2.2.5) (3.0.2)\n",
            "Requirement already satisfied: catalogue<1.1.0,>=0.0.7 in /usr/local/lib/python3.6/dist-packages (from spacy>=2.2.2->en_core_web_sm==2.2.5) (1.0.0)\n",
            "Requirement already satisfied: chardet<4,>=3.0.2 in /usr/local/lib/python3.6/dist-packages (from requests<3.0.0,>=2.13.0->spacy>=2.2.2->en_core_web_sm==2.2.5) (3.0.4)\n",
            "Requirement already satisfied: urllib3!=1.25.0,!=1.25.1,<1.26,>=1.21.1 in /usr/local/lib/python3.6/dist-packages (from requests<3.0.0,>=2.13.0->spacy>=2.2.2->en_core_web_sm==2.2.5) (1.24.3)\n",
            "Requirement already satisfied: certifi>=2017.4.17 in /usr/local/lib/python3.6/dist-packages (from requests<3.0.0,>=2.13.0->spacy>=2.2.2->en_core_web_sm==2.2.5) (2020.6.20)\n",
            "Requirement already satisfied: idna<3,>=2.5 in /usr/local/lib/python3.6/dist-packages (from requests<3.0.0,>=2.13.0->spacy>=2.2.2->en_core_web_sm==2.2.5) (2.10)\n",
            "Requirement already satisfied: importlib-metadata>=0.20; python_version < \"3.8\" in /usr/local/lib/python3.6/dist-packages (from catalogue<1.1.0,>=0.0.7->spacy>=2.2.2->en_core_web_sm==2.2.5) (2.0.0)\n",
            "Requirement already satisfied: zipp>=0.5 in /usr/local/lib/python3.6/dist-packages (from importlib-metadata>=0.20; python_version < \"3.8\"->catalogue<1.1.0,>=0.0.7->spacy>=2.2.2->en_core_web_sm==2.2.5) (3.4.0)\n",
            "\u001b[38;5;2m✔ Download and installation successful\u001b[0m\n",
            "You can now load the model via spacy.load('en_core_web_sm')\n",
            "\u001b[38;5;2m✔ Linking successful\u001b[0m\n",
            "/usr/local/lib/python3.6/dist-packages/en_core_web_sm -->\n",
            "/usr/local/lib/python3.6/dist-packages/spacy/data/en\n",
            "You can now load the model via spacy.load('en')\n"
          ],
          "name": "stdout"
        }
      ]
    },
    {
      "cell_type": "code",
      "metadata": {
        "colab": {
          "base_uri": "https://localhost:8080/"
        },
        "id": "-Inc9AlqCqOY",
        "outputId": "c505c79f-cc8c-4b9e-cb5d-93253af97d70"
      },
      "source": [
        "############### upload data\n",
        "# Mount Google drive to load data\n",
        "from google.colab import drive\n",
        "drive.mount('/content/drive', force_remount=True)"
      ],
      "execution_count": 4,
      "outputs": [
        {
          "output_type": "stream",
          "text": [
            "Mounted at /content/drive\n"
          ],
          "name": "stdout"
        }
      ]
    },
    {
      "cell_type": "code",
      "metadata": {
        "id": "pU9F34eUKmAl"
      },
      "source": [
        "import pandas as pd\n",
        "\n",
        "import torch\n",
        "import torch.optim as optim\n",
        "\n",
        "import torchtext\n",
        "from torchtext import data\n",
        "import spacy\n",
        "import matplotlib.pyplot as plt\n",
        "import numpy as np\n",
        "from sklearn.model_selection import train_test_split\n",
        "\n",
        "import argparse\n",
        "import os\n"
      ],
      "execution_count": 5,
      "outputs": []
    },
    {
      "cell_type": "code",
      "metadata": {
        "id": "nk46w9BgKnwJ"
      },
      "source": [
        "import torch\n",
        "import torch.nn as nn\n",
        "import torch.nn.functional as F\n",
        "\n",
        "\n",
        "class Baseline(nn.Module):\n",
        "\n",
        "    def __init__(self, embedding_dim, vocab):\n",
        "        super(Baseline, self).__init__()\n",
        "\n",
        "        self.embedding = nn.Embedding.from_pretrained(vocab.vectors)\n",
        "        self.fc = nn.Linear(embedding_dim, 6)\n",
        "\n",
        "    def forward(self, x, lengths=None):\n",
        "        embedded = self.embedding(x)\n",
        "\n",
        "        average = embedded.mean(0)\n",
        "        output = self.fc(average)\n",
        "        output = nn.functional.relu(output)\n",
        "        return output"
      ],
      "execution_count": 6,
      "outputs": []
    },
    {
      "cell_type": "code",
      "metadata": {
        "id": "suJoSZ9AC6e8"
      },
      "source": [
        "from torch.nn.utils.rnn import pack_padded_sequence, pad_packed_sequence\n",
        "import torch\n",
        "import torch.nn as nn\n",
        "import torch.nn.functional as F\n",
        "\n",
        "class CNN_LSTM(nn.Module):\n",
        "    def __init__(self, embedding_dim, vocab, hidden_dim=100):\n",
        "        super(CNN_LSTM, self).__init__()\n",
        "        self.embedding = nn.Embedding.from_pretrained(vocab.vectors)\n",
        "        self.hidden_dim = hidden_dim\n",
        "\n",
        "        self.conv1 = nn.Conv2d(1, 100,kernel_size=(2,embedding_dim)) #in_channels, out_chanels, kernel_size\n",
        "        \n",
        "        \n",
        "        self.lstm1 = nn.LSTM(embedding_dim,hidden_dim)\n",
        "        target_size = 6\n",
        "        self.fc1 = nn.Linear(hidden_dim, target_size)\n",
        "\n",
        "    def forward(self, x, lengths):\n",
        "    #   embeds = self.word_embeddings(sentence)\n",
        "    #     lstm_out, _ = self.lstm(embeds.view(len(sentence), 1, -1))\n",
        "    #     tag_space = self.hidden2tag(lstm_out.view(len(sentence), -1))\n",
        "    #     tag_scores = F.log_softmax(tag_space, dim=1)\n",
        "    #     return tag_scores\n",
        "        \n",
        "        x = self.embedding(x)\n",
        "        # print('x.shape',x.shape)\n",
        "\n",
        "        x = x.unsqueeze(0)\n",
        "        # print('x = x.unsqueeze(0)',x.shape)\n",
        "        x = x.transpose(1,2) # swaps 2nd and 3rd dimension\n",
        "        # print('x = x.transpose(1,2)',x.shape)\n",
        "        x = x.transpose(0,1) # swaps 1st and 2nd dimension, now it has the correct input (n_samples,channels, height, width)\n",
        "        # print('x = x.transpose(0,1)',x.shape)\n",
        "        x1 = F.relu(self.conv1(x)) \n",
        "        # print('x1 = F.relu(self.conv1(x))',x1.shape)\n",
        "        \n",
        "        x1 = x1.squeeze(3)\n",
        "        # print('x1 = x1.squeeze(3)',x1.shape)\n",
        "        pool1 = nn.MaxPool1d(x1.size(2), 1) #maxpool\n",
        "        \n",
        "        x = pool1(x1)\n",
        "        # print('pool1 = nn.MaxPool1d(x1.size(2), 1)',x.shape)\n",
        "        x = x.squeeze(2)\n",
        "        x = x.unsqueeze(0)\n",
        "        # print('x = x.squeeze(2)',x.shape)\n",
        "\n",
        "\n",
        "        #  pack the word embeddings in the batch together and \n",
        "        # run the RNN on this object\n",
        "        # x = pack_padded_sequence(x,lengths) \n",
        "        # print('x.shape',x.shape)\n",
        "        x,(h,c) = self.lstm1(x)\n",
        "        # print('x.shape',x.shape)\n",
        "        # print('h.shape',h.shape)\n",
        "        # print('len(h)',len(h))\n",
        "        # print('(x.view(len(lengths),-1)).shape',(x.view(len(lengths),-1)).shape)\n",
        "        # h_result = self.fc1(h.squeeze(0))\n",
        "        # h_result = F.log_softmax(target_size, dim=1) --> change to this with multiple cat\n",
        "        h_result = torch.sigmoid(h_result)\n",
        "        \n",
        "\n",
        "        return h_result.squeeze(1)"
      ],
      "execution_count": 13,
      "outputs": []
    },
    {
      "cell_type": "code",
      "metadata": {
        "id": "m45yUls1M5_q"
      },
      "source": [
        "def evaluate(model, data_iter, loss_fnc):\n",
        "    sumloss = 0\n",
        "    sumcorrect = 0\n",
        "    for i, texts in enumerate(data_iter):\n",
        "        words, length = texts.comment_text\n",
        "        labels = []\n",
        "        for i in range(len(texts.toxic)):\n",
        "            labels += [[int(texts.toxic[i]), int(texts.severe_toxic[i]), int(texts.obscene[i]), int(texts.threat[i]), int(texts.insult[i]), int(texts.identity_hate[i])]]\n",
        "        out = model(words, length)\n",
        "        temploss = loss_fnc(input=out.squeeze(), target=torch.FloatTensor(labels))\n",
        "        sumloss += temploss\n",
        "        temp = ((out > 0.5).squeeze().long() == torch.FloatTensor(labels))\n",
        "        correct = 0\n",
        "        for i in temp:\n",
        "          if torch.equal(i, torch.BoolTensor([True, True, True, True, True, True])):\n",
        "            correct += 1\n",
        "    loss = torch.mean(float(sumloss) / (i + 1))\n",
        "    return float(correct)/len(data_iter.dataset), loss"
      ],
      "execution_count": 8,
      "outputs": []
    },
    {
      "cell_type": "code",
      "metadata": {
        "id": "JuQY9eHEM5sZ"
      },
      "source": [
        "def plot_data(train_acc, valid_acc, test_acc, train_loss, valid_loss, test_loss):\n",
        "\n",
        "    plt.figure()\n",
        "    plt.title(\"Accuracy\")\n",
        "    plt.plot(train_acc, label=\"Training\")\n",
        "    plt.plot(valid_acc, label=\"Validation\")\n",
        "    plt.xlabel(\"Epochs\")\n",
        "    plt.ylabel(\"Accuracy\")\n",
        "    plt.legend()\n",
        "    plt.figtext(0.5, -0.05, \"Training Final Accuracy: \" + str(train_acc[-1]), wrap=True, horizontalalignment='center', fontsize=12)\n",
        "    plt.figtext(0.5, -0.1, \"Validation Final Accuracy: \" + str(valid_acc[-1]), wrap=True, horizontalalignment='center', fontsize=12)\n",
        "    plt.show()\n",
        "\n",
        "    plt.figure()\n",
        "    plt.title(\"Loss\")\n",
        "    plt.plot(train_loss, label=\"Training\")\n",
        "    plt.plot(valid_loss, label=\"Validation\")\n",
        "    plt.xlabel(\"Epochs\")\n",
        "    plt.ylabel(\"Loss\")\n",
        "    plt.legend()\n",
        "    plt.show()"
      ],
      "execution_count": 9,
      "outputs": []
    },
    {
      "cell_type": "code",
      "metadata": {
        "id": "Ye_9whlPMTzA"
      },
      "source": [
        "def baselinetrain(batch_size, lr, epochs, emb_dim):\n",
        "    ######\n",
        "    # 3.2 Processing of the data\n",
        "    # the code below assumes you have processed and split the data into\n",
        "    # the three files, train.tsv, validation.tsv and test.tsv\n",
        "    # and those files reside in the folder named \"data\".\n",
        "    ######\n",
        "\n",
        "    COMMENT_TEXT    = data.Field(sequential=True,lower=True, tokenize='spacy', include_lengths=True)\n",
        "    TOXIC           = data.Field(sequential=False, use_vocab=False)\n",
        "    SEVERE_TOXIC    = data.Field(sequential=False, use_vocab=False)\n",
        "    OBSCENE         = data.Field(sequential=False, use_vocab=False)\n",
        "    THREAT          = data.Field(sequential=False, use_vocab=False)\n",
        "    INSULT          = data.Field(sequential=False, use_vocab=False)\n",
        "    IDENTITY_HATE   = data.Field(sequential=False, use_vocab=False)\n",
        "\n",
        "    train_data, val_data, test_data = data.TabularDataset.splits(\n",
        "            path='/content/drive/MyDrive/ece367/ECE324 project/dataProcessing/processed_data/', train='train.csv',\n",
        "            validation='valid.csv', test='test.csv', format='csv',\n",
        "            skip_header=True, fields=[('id', None), ('comment_text', COMMENT_TEXT), ('toxic', TOXIC), ('severe_toxic', SEVERE_TOXIC), ('obscene', OBSCENE), ('threat', THREAT), ('insult', INSULT), ('identity_hate', IDENTITY_HATE)])\n",
        "\n",
        "    train_iter, val_iter, test_iter = data.BucketIterator.splits(\n",
        "          (train_data, val_data, test_data), batch_sizes=(batch_size, batch_size, batch_size),\n",
        "\tsort_key=lambda x: len(x.comment_text), device=None, sort_within_batch=True, repeat=False)\n",
        "\n",
        "    COMMENT_TEXT.build_vocab(train_data, val_data, test_data)\n",
        "\n",
        "    COMMENT_TEXT.vocab.load_vectors(torchtext.vocab.GloVe(name='6B', dim=100))\n",
        "    vocab = COMMENT_TEXT.vocab\n",
        "\n",
        "    # print(\"Shape of Vocab:\",COMMENT_TEXT.vocab.vectors.shape)\n",
        "\n",
        "    filters = (2, 4)\n",
        "    loss_fnc = torch.nn.MSELoss()\n",
        "    model = CNN_LSTM(emb_dim, COMMENT_TEXT.vocab)\n",
        "    optimizer = optim.Adam(model.parameters(), lr=lr)\n",
        "    train_acc = []\n",
        "    train_loss = []\n",
        "    valid_acc = []\n",
        "    valid_loss = []\n",
        "    test_acc = []\n",
        "    test_loss = []\n",
        "    for epoch in range(epochs):\n",
        "        for i, texts in enumerate(train_iter):\n",
        "            words, length = texts.comment_text\n",
        "            labels = []\n",
        "            for i in range(len(texts.toxic)):\n",
        "              labels += [[int(texts.toxic[i]), int(texts.severe_toxic[i]), int(texts.obscene[i]), int(texts.threat[i]), int(texts.insult[i]), int(texts.identity_hate[i])]]\n",
        "            optimizer.zero_grad()\n",
        "            out = model(words, length)\n",
        "            # print(out.size())\n",
        "            # print(torch.FloatTensor(labels).size())\n",
        "            temploss = loss_fnc(input=out.squeeze(), target=torch.FloatTensor(labels))\n",
        "            temploss.backward()\n",
        "            optimizer.step()\n",
        "\n",
        "        train = evaluate(model, train_iter, loss_fnc)\n",
        "        train_acc.append(train[0])\n",
        "        train_loss.append(train[1].numpy())\n",
        "        val = evaluate(model, val_iter, loss_fnc)\n",
        "        valid_acc.append(val[0])\n",
        "        valid_loss.append(val[1].numpy())\n",
        "        test = evaluate(model, test_iter, loss_fnc)\n",
        "        test_acc.append(test[0])\n",
        "        test_loss.append(test[1].numpy())\n",
        "        print(\"Epoch: {}| Train acc: {} | Train loss: {} |  Valid acc: {} |  Valid loss: {}\".format(epoch + 1, train_acc[epoch], train_loss[epoch],valid_acc[epoch], valid_loss[epoch]))\n",
        "\n",
        "    plot_data(train_acc, valid_acc, test_acc, train_loss, valid_loss, test_loss)\n"
      ],
      "execution_count": 21,
      "outputs": []
    },
    {
      "cell_type": "code",
      "metadata": {
        "colab": {
          "base_uri": "https://localhost:8080/",
          "height": 1000
        },
        "id": "DRueRJ9nmNMS",
        "outputId": "cb5d5482-9b05-4642-e414-3e5766e06e16"
      },
      "source": [
        "baselinetrain(64, 0.1, 30, 100)"
      ],
      "execution_count": 22,
      "outputs": [
        {
          "output_type": "stream",
          "text": [
            "Epoch: 1| Train acc: 0.001810477657935285 | Train loss: 36.48095703125 |  Valid acc: 0.007090012330456227 |  Valid loss: 4.561610698699951\n",
            "Epoch: 2| Train acc: 0.001386748844375963 | Train loss: 36.592777252197266 |  Valid acc: 0.007090012330456227 |  Valid loss: 4.576289653778076\n",
            "Epoch: 3| Train acc: 0.0013482280431432975 | Train loss: 54.90350341796875 |  Valid acc: 0.007090012330456227 |  Valid loss: 4.576704025268555\n",
            "Epoch: 4| Train acc: 0.0010785824345146378 | Train loss: 48.792720794677734 |  Valid acc: 0.007090012330456227 |  Valid loss: 4.576704025268555\n",
            "Epoch: 5| Train acc: 0.0009244992295839754 | Train loss: 48.80729293823242 |  Valid acc: 0.007090012330456227 |  Valid loss: 4.576704025268555\n",
            "Epoch: 6| Train acc: 0.0010400616332819723 | Train loss: 54.89178466796875 |  Valid acc: 0.007090012330456227 |  Valid loss: 4.576704025268555\n",
            "Epoch: 7| Train acc: 0.0008089368258859784 | Train loss: 36.6093864440918 |  Valid acc: 0.007090012330456227 |  Valid loss: 4.576704025268555\n",
            "Epoch: 8| Train acc: 0.0008089368258859784 | Train loss: 36.5976448059082 |  Valid acc: 0.007090012330456227 |  Valid loss: 4.576704025268555\n",
            "Epoch: 9| Train acc: 0.0014637904468412944 | Train loss: 36.590641021728516 |  Valid acc: 0.007090012330456227 |  Valid loss: 4.576704025268555\n",
            "Epoch: 10| Train acc: 0.0011171032357473036 | Train loss: 48.790645599365234 |  Valid acc: 0.007090012330456227 |  Valid loss: 4.576704025268555\n",
            "Epoch: 11| Train acc: 0.0011556240369799693 | Train loss: 42.69178771972656 |  Valid acc: 0.007090012330456227 |  Valid loss: 4.5767035484313965\n",
            "Epoch: 12| Train acc: 0.0013097072419106317 | Train loss: 36.59611892700195 |  Valid acc: 0.007090012330456227 |  Valid loss: 4.5767035484313965\n",
            "Epoch: 13| Train acc: 0.0011941448382126348 | Train loss: 36.59061050415039 |  Valid acc: 0.007090012330456227 |  Valid loss: 4.5767035484313965\n",
            "Epoch: 14| Train acc: 0.0007704160246533128 | Train loss: 54.89299011230469 |  Valid acc: 0.007090012330456227 |  Valid loss: 4.5767035484313965\n",
            "Epoch: 15| Train acc: 0.0010015408320493066 | Train loss: 36.59843826293945 |  Valid acc: 0.007090012330456227 |  Valid loss: 4.5767035484313965\n",
            "Epoch: 16| Train acc: 0.0013097072419106317 | Train loss: 48.8083381652832 |  Valid acc: 0.007090012330456227 |  Valid loss: 4.5767035484313965\n",
            "Epoch: 17| Train acc: 0.00150231124807396 | Train loss: 48.80209732055664 |  Valid acc: 0.007090012330456227 |  Valid loss: 4.5767035484313965\n",
            "Epoch: 18| Train acc: 0.0008089368258859784 | Train loss: 36.5999755859375 |  Valid acc: 0.007090012330456227 |  Valid loss: 4.5767035484313965\n",
            "Epoch: 19| Train acc: 0.0010400616332819723 | Train loss: 54.89760208129883 |  Valid acc: 0.007090012330456227 |  Valid loss: 4.5767035484313965\n",
            "Epoch: 20| Train acc: 0.00150231124807396 | Train loss: 60.97515869140625 |  Valid acc: 0.007090012330456227 |  Valid loss: 4.576695919036865\n",
            "Epoch: 21| Train acc: 0.0010785824345146378 | Train loss: 36.590633392333984 |  Valid acc: 0.007090012330456227 |  Valid loss: 4.5767035484313965\n",
            "Epoch: 22| Train acc: 0.0007704160246533128 | Train loss: 42.70273208618164 |  Valid acc: 0.007090012330456227 |  Valid loss: 4.57670259475708\n",
            "Epoch: 23| Train acc: 0.001386748844375963 | Train loss: 42.682613372802734 |  Valid acc: 0.007090012330456227 |  Valid loss: 4.5766921043396\n",
            "Epoch: 24| Train acc: 0.0014252696456086287 | Train loss: 54.90238952636719 |  Valid acc: 0.007090012330456227 |  Valid loss: 4.576704025268555\n",
            "Epoch: 25| Train acc: 0.0009244992295839754 | Train loss: 36.60782241821289 |  Valid acc: 0.007090012330456227 |  Valid loss: 4.576704025268555\n",
            "Epoch: 26| Train acc: 0.0010015408320493066 | Train loss: 36.60000991821289 |  Valid acc: 0.007090012330456227 |  Valid loss: 4.576704025268555\n",
            "Epoch: 27| Train acc: 0.0010400616332819723 | Train loss: 36.59844970703125 |  Valid acc: 0.007090012330456227 |  Valid loss: 4.576704025268555\n",
            "Epoch: 28| Train acc: 0.0016563944530046226 | Train loss: 48.794803619384766 |  Valid acc: 0.007090012330456227 |  Valid loss: 4.576704025268555\n",
            "Epoch: 29| Train acc: 0.0010015408320493066 | Train loss: 42.696353912353516 |  Valid acc: 0.007090012330456227 |  Valid loss: 4.576704025268555\n",
            "Epoch: 30| Train acc: 0.001386748844375963 | Train loss: 36.601558685302734 |  Valid acc: 0.007090012330456227 |  Valid loss: 4.576704025268555\n"
          ],
          "name": "stdout"
        },
        {
          "output_type": "display_data",
          "data": {
            "image/png": "[encoded data removed]",
            "text/plain": [
              "<Figure size 432x288 with 1 Axes>"
            ]
          },
          "metadata": {
            "tags": [],
            "needs_background": "light"
          }
        },
        {
          "output_type": "display_data",
          "data": {
            "image/png": "[encoded data removed]",
            "text/plain": [
              "<Figure size 432x288 with 1 Axes>"
            ]
          },
          "metadata": {
            "tags": [],
            "needs_background": "light"
          }
        }
      ]
    },
    {
      "cell_type": "code",
      "metadata": {
        "id": "Nfpks5rdnNp4"
      },
      "source": [
        ""
      ],
      "execution_count": null,
      "outputs": []
    }
  ]
}